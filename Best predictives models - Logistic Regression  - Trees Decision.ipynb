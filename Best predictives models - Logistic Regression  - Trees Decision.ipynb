{
 "cells": [
  {
   "cell_type": "markdown",
   "id": "11049018",
   "metadata": {},
   "source": [
    "# LAB 2: INTRO ML"
   ]
  },
  {
   "cell_type": "markdown",
   "id": "0ebc119b",
   "metadata": {},
   "source": [
    "Laboratorio 2: Armado de un esquema de aprendizaje automático\n",
    "En el laboratorio final se espera que puedan poner en práctica los conocimientos adquiridos en el curso, trabajando con un conjunto de datos de clasificación.\n",
    "\n",
    "El objetivo es que se introduzcan en el desarrollo de un esquema para hacer tareas de aprendizaje automático: selección de un modelo, ajuste de hiperparámetros y evaluación.\n",
    "\n",
    "El conjunto de datos a utilizar está en ./data/loan_data.csv. Si abren el archivo verán que al principio (las líneas que empiezan con #) describen el conjunto de datos y sus atributos (incluyendo el atributo de etiqueta o clase).\n",
    "\n",
    "Se espera que hagan uso de las herramientas vistas en el curso. Se espera que hagan uso especialmente de las herramientas brindadas por scikit-learn."
   ]
  },
  {
   "cell_type": "code",
   "execution_count": 1,
   "id": "8880d400",
   "metadata": {},
   "outputs": [],
   "source": [
    "import numpy as np\n",
    "import pandas as pd\n",
    "import matplotlib.pyplot as plt\n",
    "\n",
    "# TODO: Agregar las librerías que hagan falta\n",
    "from sklearn.model_selection import train_test_split"
   ]
  },
  {
   "cell_type": "markdown",
   "id": "e0943fe8",
   "metadata": {},
   "source": [
    "Carga de datos y división en entrenamiento y evaluación\n",
    "La celda siguiente se encarga de la carga de datos (haciendo uso de pandas). Estos serán los que se trabajarán en el resto del laboratorio."
   ]
  },
  {
   "cell_type": "code",
   "execution_count": 2,
   "id": "9576c2c4",
   "metadata": {},
   "outputs": [],
   "source": [
    "dataset = pd.read_csv(\"https://raw.githubusercontent.com/DiploDatos/IntroduccionAprendizajeAutomatico/master/data/loan_data.csv\", comment=\"#\")\n",
    "\n",
    "# División entre instancias y etiquetas\n",
    "X, y = dataset.iloc[:, 1:], dataset.TARGET\n",
    "\n",
    "# división entre entrenamiento y evaluación\n",
    "X_train, X_test, y_train, y_test = train_test_split(X, y, test_size=0.2, random_state=0)"
   ]
  },
  {
   "cell_type": "code",
   "execution_count": 3,
   "id": "54e83430",
   "metadata": {},
   "outputs": [
    {
     "data": {
      "text/html": [
       "<div>\n",
       "<style scoped>\n",
       "    .dataframe tbody tr th:only-of-type {\n",
       "        vertical-align: middle;\n",
       "    }\n",
       "\n",
       "    .dataframe tbody tr th {\n",
       "        vertical-align: top;\n",
       "    }\n",
       "\n",
       "    .dataframe thead th {\n",
       "        text-align: right;\n",
       "    }\n",
       "</style>\n",
       "<table border=\"1\" class=\"dataframe\">\n",
       "  <thead>\n",
       "    <tr style=\"text-align: right;\">\n",
       "      <th></th>\n",
       "      <th>TARGET</th>\n",
       "      <th>LOAN</th>\n",
       "      <th>MORTDUE</th>\n",
       "      <th>VALUE</th>\n",
       "      <th>YOJ</th>\n",
       "      <th>DEROG</th>\n",
       "      <th>DELINQ</th>\n",
       "      <th>CLAGE</th>\n",
       "      <th>NINQ</th>\n",
       "      <th>CLNO</th>\n",
       "      <th>DEBTINC</th>\n",
       "    </tr>\n",
       "  </thead>\n",
       "  <tbody>\n",
       "    <tr>\n",
       "      <th>0</th>\n",
       "      <td>0</td>\n",
       "      <td>4700</td>\n",
       "      <td>88026.0</td>\n",
       "      <td>115506.0</td>\n",
       "      <td>6.0</td>\n",
       "      <td>0.0</td>\n",
       "      <td>0.0</td>\n",
       "      <td>182.248332</td>\n",
       "      <td>0.0</td>\n",
       "      <td>27.0</td>\n",
       "      <td>29.209023</td>\n",
       "    </tr>\n",
       "    <tr>\n",
       "      <th>1</th>\n",
       "      <td>0</td>\n",
       "      <td>19300</td>\n",
       "      <td>39926.0</td>\n",
       "      <td>101208.0</td>\n",
       "      <td>4.0</td>\n",
       "      <td>0.0</td>\n",
       "      <td>0.0</td>\n",
       "      <td>140.051638</td>\n",
       "      <td>0.0</td>\n",
       "      <td>14.0</td>\n",
       "      <td>31.545694</td>\n",
       "    </tr>\n",
       "    <tr>\n",
       "      <th>2</th>\n",
       "      <td>0</td>\n",
       "      <td>5700</td>\n",
       "      <td>71556.0</td>\n",
       "      <td>79538.0</td>\n",
       "      <td>2.0</td>\n",
       "      <td>0.0</td>\n",
       "      <td>0.0</td>\n",
       "      <td>92.643085</td>\n",
       "      <td>0.0</td>\n",
       "      <td>15.0</td>\n",
       "      <td>41.210012</td>\n",
       "    </tr>\n",
       "    <tr>\n",
       "      <th>3</th>\n",
       "      <td>0</td>\n",
       "      <td>13000</td>\n",
       "      <td>44875.0</td>\n",
       "      <td>57713.0</td>\n",
       "      <td>0.0</td>\n",
       "      <td>1.0</td>\n",
       "      <td>0.0</td>\n",
       "      <td>184.990324</td>\n",
       "      <td>1.0</td>\n",
       "      <td>12.0</td>\n",
       "      <td>28.602076</td>\n",
       "    </tr>\n",
       "    <tr>\n",
       "      <th>4</th>\n",
       "      <td>0</td>\n",
       "      <td>19300</td>\n",
       "      <td>72752.0</td>\n",
       "      <td>106084.0</td>\n",
       "      <td>11.0</td>\n",
       "      <td>0.0</td>\n",
       "      <td>0.0</td>\n",
       "      <td>193.707100</td>\n",
       "      <td>1.0</td>\n",
       "      <td>13.0</td>\n",
       "      <td>30.686106</td>\n",
       "    </tr>\n",
       "  </tbody>\n",
       "</table>\n",
       "</div>"
      ],
      "text/plain": [
       "   TARGET   LOAN  MORTDUE     VALUE   YOJ  DEROG  DELINQ       CLAGE  NINQ  \\\n",
       "0       0   4700  88026.0  115506.0   6.0    0.0     0.0  182.248332   0.0   \n",
       "1       0  19300  39926.0  101208.0   4.0    0.0     0.0  140.051638   0.0   \n",
       "2       0   5700  71556.0   79538.0   2.0    0.0     0.0   92.643085   0.0   \n",
       "3       0  13000  44875.0   57713.0   0.0    1.0     0.0  184.990324   1.0   \n",
       "4       0  19300  72752.0  106084.0  11.0    0.0     0.0  193.707100   1.0   \n",
       "\n",
       "   CLNO    DEBTINC  \n",
       "0  27.0  29.209023  \n",
       "1  14.0  31.545694  \n",
       "2  15.0  41.210012  \n",
       "3  12.0  28.602076  \n",
       "4  13.0  30.686106  "
      ]
     },
     "execution_count": 3,
     "metadata": {},
     "output_type": "execute_result"
    }
   ],
   "source": [
    "dataset.head()"
   ]
  },
  {
   "cell_type": "code",
   "execution_count": 4,
   "id": "0662bb88",
   "metadata": {},
   "outputs": [
    {
     "data": {
      "text/plain": [
       "(1854, 11)"
      ]
     },
     "execution_count": 4,
     "metadata": {},
     "output_type": "execute_result"
    }
   ],
   "source": [
    "dataset.shape"
   ]
  },
  {
   "cell_type": "code",
   "execution_count": 5,
   "id": "9dde1bb1",
   "metadata": {},
   "outputs": [
    {
     "data": {
      "text/html": [
       "<div>\n",
       "<style scoped>\n",
       "    .dataframe tbody tr th:only-of-type {\n",
       "        vertical-align: middle;\n",
       "    }\n",
       "\n",
       "    .dataframe tbody tr th {\n",
       "        vertical-align: top;\n",
       "    }\n",
       "\n",
       "    .dataframe thead th {\n",
       "        text-align: right;\n",
       "    }\n",
       "</style>\n",
       "<table border=\"1\" class=\"dataframe\">\n",
       "  <thead>\n",
       "    <tr style=\"text-align: right;\">\n",
       "      <th></th>\n",
       "      <th>TARGET</th>\n",
       "      <th>LOAN</th>\n",
       "      <th>MORTDUE</th>\n",
       "      <th>VALUE</th>\n",
       "      <th>YOJ</th>\n",
       "      <th>DEROG</th>\n",
       "      <th>DELINQ</th>\n",
       "      <th>CLAGE</th>\n",
       "      <th>NINQ</th>\n",
       "      <th>CLNO</th>\n",
       "      <th>DEBTINC</th>\n",
       "    </tr>\n",
       "  </thead>\n",
       "  <tbody>\n",
       "    <tr>\n",
       "      <th>count</th>\n",
       "      <td>1854.000000</td>\n",
       "      <td>1854.000000</td>\n",
       "      <td>1854.000000</td>\n",
       "      <td>1854.000000</td>\n",
       "      <td>1854.000000</td>\n",
       "      <td>1854.000000</td>\n",
       "      <td>1854.000000</td>\n",
       "      <td>1854.000000</td>\n",
       "      <td>1854.000000</td>\n",
       "      <td>1854.000000</td>\n",
       "      <td>1854.000000</td>\n",
       "    </tr>\n",
       "    <tr>\n",
       "      <th>mean</th>\n",
       "      <td>0.166667</td>\n",
       "      <td>19111.758360</td>\n",
       "      <td>76316.051780</td>\n",
       "      <td>107321.088457</td>\n",
       "      <td>8.900216</td>\n",
       "      <td>0.187702</td>\n",
       "      <td>0.319849</td>\n",
       "      <td>180.300783</td>\n",
       "      <td>1.128910</td>\n",
       "      <td>21.857066</td>\n",
       "      <td>34.573408</td>\n",
       "    </tr>\n",
       "    <tr>\n",
       "      <th>std</th>\n",
       "      <td>0.372779</td>\n",
       "      <td>11000.345961</td>\n",
       "      <td>46227.026585</td>\n",
       "      <td>56039.685066</td>\n",
       "      <td>7.552677</td>\n",
       "      <td>0.704882</td>\n",
       "      <td>0.928452</td>\n",
       "      <td>84.838308</td>\n",
       "      <td>1.664555</td>\n",
       "      <td>9.510840</td>\n",
       "      <td>9.308794</td>\n",
       "    </tr>\n",
       "    <tr>\n",
       "      <th>min</th>\n",
       "      <td>0.000000</td>\n",
       "      <td>1700.000000</td>\n",
       "      <td>5627.000000</td>\n",
       "      <td>21144.000000</td>\n",
       "      <td>0.000000</td>\n",
       "      <td>0.000000</td>\n",
       "      <td>0.000000</td>\n",
       "      <td>0.486711</td>\n",
       "      <td>0.000000</td>\n",
       "      <td>0.000000</td>\n",
       "      <td>0.838118</td>\n",
       "    </tr>\n",
       "    <tr>\n",
       "      <th>25%</th>\n",
       "      <td>0.000000</td>\n",
       "      <td>12000.000000</td>\n",
       "      <td>48984.750000</td>\n",
       "      <td>70787.250000</td>\n",
       "      <td>3.000000</td>\n",
       "      <td>0.000000</td>\n",
       "      <td>0.000000</td>\n",
       "      <td>116.970718</td>\n",
       "      <td>0.000000</td>\n",
       "      <td>16.000000</td>\n",
       "      <td>29.427210</td>\n",
       "    </tr>\n",
       "    <tr>\n",
       "      <th>50%</th>\n",
       "      <td>0.000000</td>\n",
       "      <td>17000.000000</td>\n",
       "      <td>67201.000000</td>\n",
       "      <td>94198.000000</td>\n",
       "      <td>7.000000</td>\n",
       "      <td>0.000000</td>\n",
       "      <td>0.000000</td>\n",
       "      <td>174.967815</td>\n",
       "      <td>1.000000</td>\n",
       "      <td>21.000000</td>\n",
       "      <td>35.363407</td>\n",
       "    </tr>\n",
       "    <tr>\n",
       "      <th>75%</th>\n",
       "      <td>0.000000</td>\n",
       "      <td>23900.000000</td>\n",
       "      <td>93731.500000</td>\n",
       "      <td>122976.250000</td>\n",
       "      <td>13.000000</td>\n",
       "      <td>0.000000</td>\n",
       "      <td>0.000000</td>\n",
       "      <td>232.261800</td>\n",
       "      <td>2.000000</td>\n",
       "      <td>27.000000</td>\n",
       "      <td>39.357987</td>\n",
       "    </tr>\n",
       "    <tr>\n",
       "      <th>max</th>\n",
       "      <td>1.000000</td>\n",
       "      <td>89800.000000</td>\n",
       "      <td>399412.000000</td>\n",
       "      <td>512650.000000</td>\n",
       "      <td>41.000000</td>\n",
       "      <td>10.000000</td>\n",
       "      <td>10.000000</td>\n",
       "      <td>1168.233561</td>\n",
       "      <td>13.000000</td>\n",
       "      <td>65.000000</td>\n",
       "      <td>144.189001</td>\n",
       "    </tr>\n",
       "  </tbody>\n",
       "</table>\n",
       "</div>"
      ],
      "text/plain": [
       "            TARGET          LOAN        MORTDUE          VALUE          YOJ  \\\n",
       "count  1854.000000   1854.000000    1854.000000    1854.000000  1854.000000   \n",
       "mean      0.166667  19111.758360   76316.051780  107321.088457     8.900216   \n",
       "std       0.372779  11000.345961   46227.026585   56039.685066     7.552677   \n",
       "min       0.000000   1700.000000    5627.000000   21144.000000     0.000000   \n",
       "25%       0.000000  12000.000000   48984.750000   70787.250000     3.000000   \n",
       "50%       0.000000  17000.000000   67201.000000   94198.000000     7.000000   \n",
       "75%       0.000000  23900.000000   93731.500000  122976.250000    13.000000   \n",
       "max       1.000000  89800.000000  399412.000000  512650.000000    41.000000   \n",
       "\n",
       "             DEROG       DELINQ        CLAGE         NINQ         CLNO  \\\n",
       "count  1854.000000  1854.000000  1854.000000  1854.000000  1854.000000   \n",
       "mean      0.187702     0.319849   180.300783     1.128910    21.857066   \n",
       "std       0.704882     0.928452    84.838308     1.664555     9.510840   \n",
       "min       0.000000     0.000000     0.486711     0.000000     0.000000   \n",
       "25%       0.000000     0.000000   116.970718     0.000000    16.000000   \n",
       "50%       0.000000     0.000000   174.967815     1.000000    21.000000   \n",
       "75%       0.000000     0.000000   232.261800     2.000000    27.000000   \n",
       "max      10.000000    10.000000  1168.233561    13.000000    65.000000   \n",
       "\n",
       "           DEBTINC  \n",
       "count  1854.000000  \n",
       "mean     34.573408  \n",
       "std       9.308794  \n",
       "min       0.838118  \n",
       "25%      29.427210  \n",
       "50%      35.363407  \n",
       "75%      39.357987  \n",
       "max     144.189001  "
      ]
     },
     "execution_count": 5,
     "metadata": {},
     "output_type": "execute_result"
    }
   ],
   "source": [
    "dataset.describe()"
   ]
  },
  {
   "cell_type": "markdown",
   "id": "67fb7993",
   "metadata": {},
   "source": [
    "Attributes\n",
    "==========\n",
    "* Name    Description\n",
    "* TARGET  Label: 1 = client defaulted on loan - 0 = loan repaid\n",
    "* LOAN    Amount of the loan request\n",
    "* MORTDUE Amount due on existing mortgage\n",
    "* VALUE   Value of current property\n",
    "* YOJ     Years at present job\n",
    "* DEROG   Number of major derogatory reports\n",
    "* DELINQ  Number of delinquent credit lines\n",
    "* CLAGE   Age of oldest trade line in months\n",
    "* NINQ    Number of recent credit lines\n",
    "* CLNO    Number of credit lines\n",
    "* DEBTINC Debt-to-income ratio"
   ]
  },
  {
   "cell_type": "code",
   "execution_count": 6,
   "id": "d7964e59",
   "metadata": {},
   "outputs": [
    {
     "name": "stdout",
     "output_type": "stream",
     "text": [
      "                LOAN       MORTDUE          VALUE       YOJ     DEROG  \\\n",
      "TARGET                                                                  \n",
      "0       19319.546926  76798.117799  108209.451133  9.166990  0.099029   \n",
      "1       18072.815534  73905.721683  102879.275081  7.566343  0.631068   \n",
      "\n",
      "          DELINQ       CLAGE      NINQ       CLNO    DEBTINC  \n",
      "TARGET                                                        \n",
      "0       0.187702  186.318629  1.025890  21.750162  33.463484  \n",
      "1       0.980583  150.211552  1.644013  22.391586  40.123029  \n"
     ]
    }
   ],
   "source": [
    "group = dataset.groupby(\"TARGET\")\n",
    "print(group.mean())"
   ]
  },
  {
   "cell_type": "markdown",
   "id": "3a4f53ba",
   "metadata": {},
   "source": [
    "## Ejercicio 1: Descripción de los Datos y la Tarea\n",
    "Responder las siguientes preguntas:\n",
    "\n",
    "1- ¿De qué se trata el conjunto de datos?\n",
    "2- ¿Cuál es la variable objetivo que hay que predecir? ¿Qué significado tiene?\n",
    "3- ¿Qué información (atributos) hay disponible para hacer la predicción?\n",
    "4- ¿Qué atributos imagina ud. que son los más determinantes para la predicción?"
   ]
  },
  {
   "cell_type": "markdown",
   "id": "3e70499d",
   "metadata": {},
   "source": [
    "Respuestas:\n",
    "\n",
    "1- El conjunto de datos se trata de informacion que analizan los bancos a la hora de brindar prestamos financieros. El modelo se alimentara de datos recientemente obtenidos a partir de los prestamos brindados.\n",
    "\n",
    "2- La variable objetivo a predecir es \"TARGET\". La cual es una variable binaria, 1 indica que el prestamo no se pago mientras que 0 indica que se abono efectivamente.\n",
    "\n",
    "3- El resto de atributos para predecir la variable target son:\n",
    "\n",
    "LOAN    Importe del prestamo solicitado\n",
    "MORTDUE Monto adeudado sobre hipoteca existente\n",
    "VALUE   Valor de la propiedad actual\n",
    "YOJ     Años en el trabajo actual\n",
    "DEROG   Numero de reportes derogados\n",
    "DELINQ  Número de líneas de crédito morosas\n",
    "CLAGE   Antigüedad de la línea de credito más antigua en meses\n",
    "NINQ    Numero de lineas de credito reciente\n",
    "CLNO    Numero de lineas de credito\n",
    "DEBTINC Ratio de deuda sobre ingresos. (Debt / Income).\n",
    "\n",
    "4- Atributos que entendemos mas importante para la prediccion son: LOAN, DELINQ, MORTDUE Y DEBTINC"
   ]
  },
  {
   "cell_type": "markdown",
   "id": "3e6f0270",
   "metadata": {},
   "source": [
    "## Ejercicio 2: Predicción con Modelos Lineales\n",
    "En este ejercicio se entrenarán modelos lineales de clasificación para predecir la variable objetivo.\n",
    "\n",
    "Para ello, deberán utilizar la clase SGDClassifier de scikit-learn."
   ]
  },
  {
   "cell_type": "markdown",
   "id": "11821eac",
   "metadata": {},
   "source": [
    "1- Features de variables. Cuales son las variables que agregan mas valor al modelo?"
   ]
  },
  {
   "cell_type": "code",
   "execution_count": 7,
   "id": "6a8da8e1",
   "metadata": {
    "scrolled": true
   },
   "outputs": [
    {
     "data": {
      "text/plain": [
       "Text(0, 0.5, 'TARGET')"
      ]
     },
     "execution_count": 7,
     "metadata": {},
     "output_type": "execute_result"
    },
    {
     "data": {
      "image/png": "[encoded data removed]",
      "text/plain": [
       "<Figure size 432x288 with 1 Axes>"
      ]
     },
     "metadata": {
      "needs_background": "light"
     },
     "output_type": "display_data"
    }
   ],
   "source": [
    "%matplotlib inline\n",
    "pd.crosstab(dataset.DEROG, dataset.TARGET).plot(kind=\"bar\")\n",
    "plt.title(\"Frecuencia de Defaulteo en función de la cantidad de reportes denegados\")\n",
    "plt.xlabel(\"Cantidad de Reportes denegados\")\n",
    "plt.ylabel(\"TARGET\")"
   ]
  },
  {
   "cell_type": "markdown",
   "id": "4244f42b",
   "metadata": {},
   "source": [
    "### En principio, parece haber una relacion que mientras menor cantidad de reportes de credito rechazada tenga la persona, mayor probabilidad tiene de pagar el prestamo. "
   ]
  },
  {
   "cell_type": "code",
   "execution_count": 8,
   "id": "779ee2b9",
   "metadata": {},
   "outputs": [
    {
     "data": {
      "text/plain": [
       "<Figure size 1440x1440 with 0 Axes>"
      ]
     },
     "metadata": {},
     "output_type": "display_data"
    },
    {
     "data": {
      "image/png": "[encoded data removed]",
      "text/plain": [
       "<Figure size 432x288 with 1 Axes>"
      ]
     },
     "metadata": {
      "needs_background": "light"
     },
     "output_type": "display_data"
    }
   ],
   "source": [
    "%matplotlib inline\n",
    "plt.figure(figsize = (20,20))\n",
    "pd.crosstab(dataset.YOJ, dataset.TARGET).plot(kind=\"bar\")\n",
    "plt.show()"
   ]
  },
  {
   "cell_type": "markdown",
   "id": "faf21e5a",
   "metadata": {},
   "source": [
    "## Ejercicio 2.1: SGDClassifier con hiperparámetros por defecto\n",
    "Entrenar y evaluar el clasificador SGDClassifier usando los valores por omisión de scikit-learn para todos los parámetros. Únicamente fijar la semilla aleatoria para hacer repetible el experimento.\n",
    "\n",
    "Evaluar sobre el conjunto de entrenamiento y sobre el conjunto de evaluación, reportando:\n",
    "\n",
    "* Accuracy\n",
    "* Precision\n",
    "* Recall\n",
    "* F1\n",
    "* matriz de confusión"
   ]
  },
  {
   "cell_type": "code",
   "execution_count": 9,
   "id": "6f5b28f3",
   "metadata": {},
   "outputs": [],
   "source": [
    "from sklearn.linear_model import SGDClassifier\n",
    "from sklearn.preprocessing import StandardScaler\n",
    "from sklearn.pipeline import make_pipeline"
   ]
  },
  {
   "cell_type": "code",
   "execution_count": 10,
   "id": "ed81a9ba",
   "metadata": {
    "scrolled": true
   },
   "outputs": [
    {
     "data": {
      "text/html": [
       "<style>#sk-container-id-1 {color: black;background-color: white;}#sk-container-id-1 pre{padding: 0;}#sk-container-id-1 div.sk-toggleable {background-color: white;}#sk-container-id-1 label.sk-toggleable__label {cursor: pointer;display: block;width: 100%;margin-bottom: 0;padding: 0.3em;box-sizing: border-box;text-align: center;}#sk-container-id-1 label.sk-toggleable__label-arrow:before {content: \"▸\";float: left;margin-right: 0.25em;color: #696969;}#sk-container-id-1 label.sk-toggleable__label-arrow:hover:before {color: black;}#sk-container-id-1 div.sk-estimator:hover label.sk-toggleable__label-arrow:before {color: black;}#sk-container-id-1 div.sk-toggleable__content {max-height: 0;max-width: 0;overflow: hidden;text-align: left;background-color: #f0f8ff;}#sk-container-id-1 div.sk-toggleable__content pre {margin: 0.2em;color: black;border-radius: 0.25em;background-color: #f0f8ff;}#sk-container-id-1 input.sk-toggleable__control:checked~div.sk-toggleable__content {max-height: 200px;max-width: 100%;overflow: auto;}#sk-container-id-1 input.sk-toggleable__control:checked~label.sk-toggleable__label-arrow:before {content: \"▾\";}#sk-container-id-1 div.sk-estimator input.sk-toggleable__control:checked~label.sk-toggleable__label {background-color: #d4ebff;}#sk-container-id-1 div.sk-label input.sk-toggleable__control:checked~label.sk-toggleable__label {background-color: #d4ebff;}#sk-container-id-1 input.sk-hidden--visually {border: 0;clip: rect(1px 1px 1px 1px);clip: rect(1px, 1px, 1px, 1px);height: 1px;margin: -1px;overflow: hidden;padding: 0;position: absolute;width: 1px;}#sk-container-id-1 div.sk-estimator {font-family: monospace;background-color: #f0f8ff;border: 1px dotted black;border-radius: 0.25em;box-sizing: border-box;margin-bottom: 0.5em;}#sk-container-id-1 div.sk-estimator:hover {background-color: #d4ebff;}#sk-container-id-1 div.sk-parallel-item::after {content: \"\";width: 100%;border-bottom: 1px solid gray;flex-grow: 1;}#sk-container-id-1 div.sk-label:hover label.sk-toggleable__label {background-color: #d4ebff;}#sk-container-id-1 div.sk-serial::before {content: \"\";position: absolute;border-left: 1px solid gray;box-sizing: border-box;top: 0;bottom: 0;left: 50%;z-index: 0;}#sk-container-id-1 div.sk-serial {display: flex;flex-direction: column;align-items: center;background-color: white;padding-right: 0.2em;padding-left: 0.2em;position: relative;}#sk-container-id-1 div.sk-item {position: relative;z-index: 1;}#sk-container-id-1 div.sk-parallel {display: flex;align-items: stretch;justify-content: center;background-color: white;position: relative;}#sk-container-id-1 div.sk-item::before, #sk-container-id-1 div.sk-parallel-item::before {content: \"\";position: absolute;border-left: 1px solid gray;box-sizing: border-box;top: 0;bottom: 0;left: 50%;z-index: -1;}#sk-container-id-1 div.sk-parallel-item {display: flex;flex-direction: column;z-index: 1;position: relative;background-color: white;}#sk-container-id-1 div.sk-parallel-item:first-child::after {align-self: flex-end;width: 50%;}#sk-container-id-1 div.sk-parallel-item:last-child::after {align-self: flex-start;width: 50%;}#sk-container-id-1 div.sk-parallel-item:only-child::after {width: 0;}#sk-container-id-1 div.sk-dashed-wrapped {border: 1px dashed gray;margin: 0 0.4em 0.5em 0.4em;box-sizing: border-box;padding-bottom: 0.4em;background-color: white;}#sk-container-id-1 div.sk-label label {font-family: monospace;font-weight: bold;display: inline-block;line-height: 1.2em;}#sk-container-id-1 div.sk-label-container {text-align: center;}#sk-container-id-1 div.sk-container {/* jupyter's `normalize.less` sets `[hidden] { display: none; }` but bootstrap.min.css set `[hidden] { display: none !important; }` so we also need the `!important` here to be able to override the default hidden behavior on the sphinx rendered scikit-learn.org. See: https://github.com/scikit-learn/scikit-learn/issues/21755 */display: inline-block !important;position: relative;}#sk-container-id-1 div.sk-text-repr-fallback {display: none;}</style><div id=\"sk-container-id-1\" class=\"sk-top-container\"><div class=\"sk-text-repr-fallback\"><pre>Pipeline(steps=[(&#x27;standardscaler&#x27;, StandardScaler()),\n",
       "                (&#x27;sgdclassifier&#x27;, SGDClassifier(random_state=0))])</pre><b>In a Jupyter environment, please rerun this cell to show the HTML representation or trust the notebook. <br />On GitHub, the HTML representation is unable to render, please try loading this page with nbviewer.org.</b></div><div class=\"sk-container\" hidden><div class=\"sk-item sk-dashed-wrapped\"><div class=\"sk-label-container\"><div class=\"sk-label sk-toggleable\"><input class=\"sk-toggleable__control sk-hidden--visually\" id=\"sk-estimator-id-1\" type=\"checkbox\" ><label for=\"sk-estimator-id-1\" class=\"sk-toggleable__label sk-toggleable__label-arrow\">Pipeline</label><div class=\"sk-toggleable__content\"><pre>Pipeline(steps=[(&#x27;standardscaler&#x27;, StandardScaler()),\n",
       "                (&#x27;sgdclassifier&#x27;, SGDClassifier(random_state=0))])</pre></div></div></div><div class=\"sk-serial\"><div class=\"sk-item\"><div class=\"sk-estimator sk-toggleable\"><input class=\"sk-toggleable__control sk-hidden--visually\" id=\"sk-estimator-id-2\" type=\"checkbox\" ><label for=\"sk-estimator-id-2\" class=\"sk-toggleable__label sk-toggleable__label-arrow\">StandardScaler</label><div class=\"sk-toggleable__content\"><pre>StandardScaler()</pre></div></div></div><div class=\"sk-item\"><div class=\"sk-estimator sk-toggleable\"><input class=\"sk-toggleable__control sk-hidden--visually\" id=\"sk-estimator-id-3\" type=\"checkbox\" ><label for=\"sk-estimator-id-3\" class=\"sk-toggleable__label sk-toggleable__label-arrow\">SGDClassifier</label><div class=\"sk-toggleable__content\"><pre>SGDClassifier(random_state=0)</pre></div></div></div></div></div></div></div>"
      ],
      "text/plain": [
       "Pipeline(steps=[('standardscaler', StandardScaler()),\n",
       "                ('sgdclassifier', SGDClassifier(random_state=0))])"
      ]
     },
     "execution_count": 10,
     "metadata": {},
     "output_type": "execute_result"
    }
   ],
   "source": [
    "clf = make_pipeline(StandardScaler(), SGDClassifier(random_state=0)) #parametro hinge por defecto (SVM)\n",
    "clf.fit(X_train, y_train)"
   ]
  },
  {
   "cell_type": "code",
   "execution_count": 11,
   "id": "57c07d7a",
   "metadata": {},
   "outputs": [
    {
     "data": {
      "text/plain": [
       "<bound method Pipeline.get_params of Pipeline(steps=[('standardscaler', StandardScaler()),\n",
       "                ('sgdclassifier', SGDClassifier(random_state=0))])>"
      ]
     },
     "execution_count": 11,
     "metadata": {},
     "output_type": "execute_result"
    }
   ],
   "source": [
    "parameters = clf.get_params\n",
    "parameters"
   ]
  },
  {
   "cell_type": "code",
   "execution_count": 12,
   "id": "71b7a6ae",
   "metadata": {
    "scrolled": true
   },
   "outputs": [
    {
     "name": "stdout",
     "output_type": "stream",
     "text": [
      "The accuracy of the train model is:  0.8732299393122049\n",
      "The accuracy of the test model is:  0.8679245283018868\n"
     ]
    }
   ],
   "source": [
    "print(\"The accuracy of the train model is: \", clf.score(X_train, y_train))\n",
    "print(\"The accuracy of the test model is: \", clf.score(X_test, y_test))"
   ]
  },
  {
   "cell_type": "code",
   "execution_count": 13,
   "id": "dc7a8bc3",
   "metadata": {},
   "outputs": [
    {
     "data": {
      "text/html": [
       "<style>#sk-container-id-2 {color: black;background-color: white;}#sk-container-id-2 pre{padding: 0;}#sk-container-id-2 div.sk-toggleable {background-color: white;}#sk-container-id-2 label.sk-toggleable__label {cursor: pointer;display: block;width: 100%;margin-bottom: 0;padding: 0.3em;box-sizing: border-box;text-align: center;}#sk-container-id-2 label.sk-toggleable__label-arrow:before {content: \"▸\";float: left;margin-right: 0.25em;color: #696969;}#sk-container-id-2 label.sk-toggleable__label-arrow:hover:before {color: black;}#sk-container-id-2 div.sk-estimator:hover label.sk-toggleable__label-arrow:before {color: black;}#sk-container-id-2 div.sk-toggleable__content {max-height: 0;max-width: 0;overflow: hidden;text-align: left;background-color: #f0f8ff;}#sk-container-id-2 div.sk-toggleable__content pre {margin: 0.2em;color: black;border-radius: 0.25em;background-color: #f0f8ff;}#sk-container-id-2 input.sk-toggleable__control:checked~div.sk-toggleable__content {max-height: 200px;max-width: 100%;overflow: auto;}#sk-container-id-2 input.sk-toggleable__control:checked~label.sk-toggleable__label-arrow:before {content: \"▾\";}#sk-container-id-2 div.sk-estimator input.sk-toggleable__control:checked~label.sk-toggleable__label {background-color: #d4ebff;}#sk-container-id-2 div.sk-label input.sk-toggleable__control:checked~label.sk-toggleable__label {background-color: #d4ebff;}#sk-container-id-2 input.sk-hidden--visually {border: 0;clip: rect(1px 1px 1px 1px);clip: rect(1px, 1px, 1px, 1px);height: 1px;margin: -1px;overflow: hidden;padding: 0;position: absolute;width: 1px;}#sk-container-id-2 div.sk-estimator {font-family: monospace;background-color: #f0f8ff;border: 1px dotted black;border-radius: 0.25em;box-sizing: border-box;margin-bottom: 0.5em;}#sk-container-id-2 div.sk-estimator:hover {background-color: #d4ebff;}#sk-container-id-2 div.sk-parallel-item::after {content: \"\";width: 100%;border-bottom: 1px solid gray;flex-grow: 1;}#sk-container-id-2 div.sk-label:hover label.sk-toggleable__label {background-color: #d4ebff;}#sk-container-id-2 div.sk-serial::before {content: \"\";position: absolute;border-left: 1px solid gray;box-sizing: border-box;top: 0;bottom: 0;left: 50%;z-index: 0;}#sk-container-id-2 div.sk-serial {display: flex;flex-direction: column;align-items: center;background-color: white;padding-right: 0.2em;padding-left: 0.2em;position: relative;}#sk-container-id-2 div.sk-item {position: relative;z-index: 1;}#sk-container-id-2 div.sk-parallel {display: flex;align-items: stretch;justify-content: center;background-color: white;position: relative;}#sk-container-id-2 div.sk-item::before, #sk-container-id-2 div.sk-parallel-item::before {content: \"\";position: absolute;border-left: 1px solid gray;box-sizing: border-box;top: 0;bottom: 0;left: 50%;z-index: -1;}#sk-container-id-2 div.sk-parallel-item {display: flex;flex-direction: column;z-index: 1;position: relative;background-color: white;}#sk-container-id-2 div.sk-parallel-item:first-child::after {align-self: flex-end;width: 50%;}#sk-container-id-2 div.sk-parallel-item:last-child::after {align-self: flex-start;width: 50%;}#sk-container-id-2 div.sk-parallel-item:only-child::after {width: 0;}#sk-container-id-2 div.sk-dashed-wrapped {border: 1px dashed gray;margin: 0 0.4em 0.5em 0.4em;box-sizing: border-box;padding-bottom: 0.4em;background-color: white;}#sk-container-id-2 div.sk-label label {font-family: monospace;font-weight: bold;display: inline-block;line-height: 1.2em;}#sk-container-id-2 div.sk-label-container {text-align: center;}#sk-container-id-2 div.sk-container {/* jupyter's `normalize.less` sets `[hidden] { display: none; }` but bootstrap.min.css set `[hidden] { display: none !important; }` so we also need the `!important` here to be able to override the default hidden behavior on the sphinx rendered scikit-learn.org. See: https://github.com/scikit-learn/scikit-learn/issues/21755 */display: inline-block !important;position: relative;}#sk-container-id-2 div.sk-text-repr-fallback {display: none;}</style><div id=\"sk-container-id-2\" class=\"sk-top-container\"><div class=\"sk-text-repr-fallback\"><pre>Pipeline(steps=[(&#x27;standardscaler&#x27;, StandardScaler()),\n",
       "                (&#x27;sgdclassifier&#x27;,\n",
       "                 SGDClassifier(loss=&#x27;log_loss&#x27;, random_state=0))])</pre><b>In a Jupyter environment, please rerun this cell to show the HTML representation or trust the notebook. <br />On GitHub, the HTML representation is unable to render, please try loading this page with nbviewer.org.</b></div><div class=\"sk-container\" hidden><div class=\"sk-item sk-dashed-wrapped\"><div class=\"sk-label-container\"><div class=\"sk-label sk-toggleable\"><input class=\"sk-toggleable__control sk-hidden--visually\" id=\"sk-estimator-id-4\" type=\"checkbox\" ><label for=\"sk-estimator-id-4\" class=\"sk-toggleable__label sk-toggleable__label-arrow\">Pipeline</label><div class=\"sk-toggleable__content\"><pre>Pipeline(steps=[(&#x27;standardscaler&#x27;, StandardScaler()),\n",
       "                (&#x27;sgdclassifier&#x27;,\n",
       "                 SGDClassifier(loss=&#x27;log_loss&#x27;, random_state=0))])</pre></div></div></div><div class=\"sk-serial\"><div class=\"sk-item\"><div class=\"sk-estimator sk-toggleable\"><input class=\"sk-toggleable__control sk-hidden--visually\" id=\"sk-estimator-id-5\" type=\"checkbox\" ><label for=\"sk-estimator-id-5\" class=\"sk-toggleable__label sk-toggleable__label-arrow\">StandardScaler</label><div class=\"sk-toggleable__content\"><pre>StandardScaler()</pre></div></div></div><div class=\"sk-item\"><div class=\"sk-estimator sk-toggleable\"><input class=\"sk-toggleable__control sk-hidden--visually\" id=\"sk-estimator-id-6\" type=\"checkbox\" ><label for=\"sk-estimator-id-6\" class=\"sk-toggleable__label sk-toggleable__label-arrow\">SGDClassifier</label><div class=\"sk-toggleable__content\"><pre>SGDClassifier(loss=&#x27;log_loss&#x27;, random_state=0)</pre></div></div></div></div></div></div></div>"
      ],
      "text/plain": [
       "Pipeline(steps=[('standardscaler', StandardScaler()),\n",
       "                ('sgdclassifier',\n",
       "                 SGDClassifier(loss='log_loss', random_state=0))])"
      ]
     },
     "execution_count": 13,
     "metadata": {},
     "output_type": "execute_result"
    }
   ],
   "source": [
    "clf2 = make_pipeline(StandardScaler(), SGDClassifier(loss = 'log_loss',random_state=0)) #parametro log_loss:(Log Clasiffier)\n",
    "clf2.fit(X_train, y_train)"
   ]
  },
  {
   "cell_type": "code",
   "execution_count": 14,
   "id": "d0498452",
   "metadata": {
    "scrolled": false
   },
   "outputs": [
    {
     "name": "stdout",
     "output_type": "stream",
     "text": [
      "The accuracy of the train model is:  0.8718813216453135\n",
      "The accuracy of the test model is:  0.8706199460916442\n"
     ]
    }
   ],
   "source": [
    "print(\"The accuracy of the train model is: \", clf2.score(X_train, y_train))\n",
    "print(\"The accuracy of the test model is: \", clf2.score(X_test, y_test))"
   ]
  },
  {
   "cell_type": "markdown",
   "id": "ee32fddb",
   "metadata": {},
   "source": [
    "Se puede observar que la eficacia del modelo aumenta ligeramente con una regresion logistica que con un SVM linear model (para el test)."
   ]
  },
  {
   "cell_type": "code",
   "execution_count": 15,
   "id": "7954cc71",
   "metadata": {},
   "outputs": [],
   "source": [
    "# Para la determinacion de las metricas utilizaremos el modelo logistico (clf2)\n",
    "\n",
    "threshold = 0.5"
   ]
  },
  {
   "cell_type": "code",
   "execution_count": 16,
   "id": "16312d36",
   "metadata": {},
   "outputs": [],
   "source": [
    "probs = clf2.predict_proba(X_train)\n",
    "#probs.shape"
   ]
  },
  {
   "cell_type": "code",
   "execution_count": 17,
   "id": "2df5c795",
   "metadata": {},
   "outputs": [
    {
     "data": {
      "text/plain": [
       "(1483, 10)"
      ]
     },
     "execution_count": 17,
     "metadata": {},
     "output_type": "execute_result"
    }
   ],
   "source": [
    "X_train.shape"
   ]
  },
  {
   "cell_type": "code",
   "execution_count": 18,
   "id": "649dadec",
   "metadata": {},
   "outputs": [
    {
     "data": {
      "text/plain": [
       "(1483,)"
      ]
     },
     "execution_count": 18,
     "metadata": {},
     "output_type": "execute_result"
    }
   ],
   "source": [
    "predictions = clf2.predict(X_train)\n",
    "predictions.shape"
   ]
  },
  {
   "cell_type": "code",
   "execution_count": 19,
   "id": "010b2e24",
   "metadata": {},
   "outputs": [
    {
     "data": {
      "text/html": [
       "<div>\n",
       "<style scoped>\n",
       "    .dataframe tbody tr th:only-of-type {\n",
       "        vertical-align: middle;\n",
       "    }\n",
       "\n",
       "    .dataframe tbody tr th {\n",
       "        vertical-align: top;\n",
       "    }\n",
       "\n",
       "    .dataframe thead th {\n",
       "        text-align: right;\n",
       "    }\n",
       "</style>\n",
       "<table border=\"1\" class=\"dataframe\">\n",
       "  <thead>\n",
       "    <tr style=\"text-align: right;\">\n",
       "      <th></th>\n",
       "      <th>0</th>\n",
       "      <th>prediction</th>\n",
       "    </tr>\n",
       "  </thead>\n",
       "  <tbody>\n",
       "    <tr>\n",
       "      <th>0</th>\n",
       "      <td>0.196910</td>\n",
       "      <td>0</td>\n",
       "    </tr>\n",
       "    <tr>\n",
       "      <th>1</th>\n",
       "      <td>0.218859</td>\n",
       "      <td>0</td>\n",
       "    </tr>\n",
       "    <tr>\n",
       "      <th>2</th>\n",
       "      <td>0.355735</td>\n",
       "      <td>0</td>\n",
       "    </tr>\n",
       "    <tr>\n",
       "      <th>3</th>\n",
       "      <td>0.049944</td>\n",
       "      <td>0</td>\n",
       "    </tr>\n",
       "    <tr>\n",
       "      <th>4</th>\n",
       "      <td>0.032432</td>\n",
       "      <td>0</td>\n",
       "    </tr>\n",
       "  </tbody>\n",
       "</table>\n",
       "</div>"
      ],
      "text/plain": [
       "          0  prediction\n",
       "0  0.196910           0\n",
       "1  0.218859           0\n",
       "2  0.355735           0\n",
       "3  0.049944           0\n",
       "4  0.032432           0"
      ]
     },
     "execution_count": 19,
     "metadata": {},
     "output_type": "execute_result"
    }
   ],
   "source": [
    "prob = probs[:,1]\n",
    "prob_df = pd.DataFrame(prob)\n",
    "prob_df[\"prediction\"] = np.where(prob_df[0]>threshold, 1, 0)\n",
    "prob_df.head()"
   ]
  },
  {
   "cell_type": "code",
   "execution_count": 20,
   "id": "87379efe",
   "metadata": {
    "scrolled": true
   },
   "outputs": [
    {
     "data": {
      "text/html": [
       "<div>\n",
       "<style scoped>\n",
       "    .dataframe tbody tr th:only-of-type {\n",
       "        vertical-align: middle;\n",
       "    }\n",
       "\n",
       "    .dataframe tbody tr th {\n",
       "        vertical-align: top;\n",
       "    }\n",
       "\n",
       "    .dataframe thead th {\n",
       "        text-align: right;\n",
       "    }\n",
       "</style>\n",
       "<table border=\"1\" class=\"dataframe\">\n",
       "  <thead>\n",
       "    <tr style=\"text-align: right;\">\n",
       "      <th>col_0</th>\n",
       "      <th>count</th>\n",
       "    </tr>\n",
       "    <tr>\n",
       "      <th>prediction</th>\n",
       "      <th></th>\n",
       "    </tr>\n",
       "  </thead>\n",
       "  <tbody>\n",
       "    <tr>\n",
       "      <th>0</th>\n",
       "      <td>1358</td>\n",
       "    </tr>\n",
       "    <tr>\n",
       "      <th>1</th>\n",
       "      <td>125</td>\n",
       "    </tr>\n",
       "  </tbody>\n",
       "</table>\n",
       "</div>"
      ],
      "text/plain": [
       "col_0       count\n",
       "prediction       \n",
       "0            1358\n",
       "1             125"
      ]
     },
     "execution_count": 20,
     "metadata": {},
     "output_type": "execute_result"
    }
   ],
   "source": [
    "pd.crosstab(prob_df.prediction, columns=\"count\")"
   ]
  },
  {
   "cell_type": "code",
   "execution_count": 21,
   "id": "545418d6",
   "metadata": {},
   "outputs": [
    {
     "data": {
      "text/plain": [
       "True    1483\n",
       "Name: control, dtype: int64"
      ]
     },
     "execution_count": 21,
     "metadata": {},
     "output_type": "execute_result"
    }
   ],
   "source": [
    "prob_df[\"predict2\"] = list(predictions)\n",
    "prob_df[\"control\"] = (prob_df.predict2 == prob_df.prediction)\n",
    "prob_df[\"control\"].value_counts() #mismo resultado que obtendriamos con el metodo predict de sklearn"
   ]
  },
  {
   "cell_type": "markdown",
   "id": "c8b1457f",
   "metadata": {},
   "source": [
    "Nuestro modelo, segun una funcion sigmoide, clasifica a 1358 como 0 (paga la deuda) y 125 casos como 1 (entra en deault)"
   ]
  },
  {
   "cell_type": "markdown",
   "id": "c27acc74",
   "metadata": {},
   "source": [
    "# METRICAS\n",
    "    Con el conjunto de validacion."
   ]
  },
  {
   "cell_type": "markdown",
   "id": "30fae173",
   "metadata": {},
   "source": [
    "## Precision, Recall y F1"
   ]
  },
  {
   "cell_type": "code",
   "execution_count": 22,
   "id": "860aeab3",
   "metadata": {},
   "outputs": [],
   "source": [
    "y_pred = clf2.predict(X_test)"
   ]
  },
  {
   "cell_type": "code",
   "execution_count": 23,
   "id": "e40345d5",
   "metadata": {},
   "outputs": [],
   "source": [
    "from sklearn.metrics import precision_score\n",
    "from sklearn.metrics import recall_score\n",
    "from sklearn.metrics import f1_score"
   ]
  },
  {
   "cell_type": "code",
   "execution_count": 24,
   "id": "4a5ec367",
   "metadata": {},
   "outputs": [
    {
     "data": {
      "text/plain": [
       "0.6923076923076923"
      ]
     },
     "execution_count": 24,
     "metadata": {},
     "output_type": "execute_result"
    }
   ],
   "source": [
    "precision_score(y_test, y_pred)"
   ]
  },
  {
   "cell_type": "code",
   "execution_count": 25,
   "id": "73d4f83e",
   "metadata": {},
   "outputs": [
    {
     "data": {
      "text/plain": [
       "0.3103448275862069"
      ]
     },
     "execution_count": 25,
     "metadata": {},
     "output_type": "execute_result"
    }
   ],
   "source": [
    "recall_score(y_test, y_pred)"
   ]
  },
  {
   "cell_type": "code",
   "execution_count": 26,
   "id": "54229b01",
   "metadata": {},
   "outputs": [
    {
     "data": {
      "text/plain": [
       "0.4285714285714286"
      ]
     },
     "execution_count": 26,
     "metadata": {},
     "output_type": "execute_result"
    }
   ],
   "source": [
    "f1_score(y_test, y_pred)"
   ]
  },
  {
   "cell_type": "code",
   "execution_count": 27,
   "id": "bbb114e0",
   "metadata": {},
   "outputs": [
    {
     "name": "stdout",
     "output_type": "stream",
     "text": [
      "              precision    recall  f1-score   support\n",
      "\n",
      "           0       0.88      0.97      0.93       313\n",
      "           1       0.69      0.31      0.43        58\n",
      "\n",
      "    accuracy                           0.87       371\n",
      "   macro avg       0.79      0.64      0.68       371\n",
      "weighted avg       0.85      0.87      0.85       371\n",
      "\n"
     ]
    }
   ],
   "source": [
    "from sklearn.metrics import classification_report\n",
    "\n",
    "print(classification_report(y_test, y_pred))"
   ]
  },
  {
   "cell_type": "code",
   "execution_count": 28,
   "id": "90bc2cf3",
   "metadata": {},
   "outputs": [],
   "source": [
    "thresholds = [0.1, 0.2, 0.3, 0.35, 0.4, 0.45, 0.5, 0.6, 0.65, 0.8, 0.9]"
   ]
  },
  {
   "cell_type": "code",
   "execution_count": 29,
   "id": "4ac75aa9",
   "metadata": {},
   "outputs": [
    {
     "name": "stdout",
     "output_type": "stream",
     "text": [
      "Reporte de metricas para un threshold = 0.1\n",
      "\n",
      "               precision    recall  f1-score   support\n",
      "\n",
      "           0       0.94      0.64      0.76       313\n",
      "           1       0.28      0.78      0.41        58\n",
      "\n",
      "    accuracy                           0.66       371\n",
      "   macro avg       0.61      0.71      0.59       371\n",
      "weighted avg       0.84      0.66      0.70       371\n",
      "\n",
      "Reporte de metricas para un threshold = 0.2\n",
      "\n",
      "               precision    recall  f1-score   support\n",
      "\n",
      "           0       0.92      0.82      0.87       313\n",
      "           1       0.39      0.60      0.47        58\n",
      "\n",
      "    accuracy                           0.79       371\n",
      "   macro avg       0.65      0.71      0.67       371\n",
      "weighted avg       0.84      0.79      0.81       371\n",
      "\n",
      "Reporte de metricas para un threshold = 0.3\n",
      "\n",
      "               precision    recall  f1-score   support\n",
      "\n",
      "           0       0.90      0.91      0.90       313\n",
      "           1       0.48      0.45      0.46        58\n",
      "\n",
      "    accuracy                           0.84       371\n",
      "   macro avg       0.69      0.68      0.68       371\n",
      "weighted avg       0.83      0.84      0.84       371\n",
      "\n",
      "Reporte de metricas para un threshold = 0.35\n",
      "\n",
      "               precision    recall  f1-score   support\n",
      "\n",
      "           0       0.89      0.94      0.91       313\n",
      "           1       0.54      0.36      0.43        58\n",
      "\n",
      "    accuracy                           0.85       371\n",
      "   macro avg       0.71      0.65      0.67       371\n",
      "weighted avg       0.83      0.85      0.84       371\n",
      "\n",
      "Reporte de metricas para un threshold = 0.4\n",
      "\n",
      "               precision    recall  f1-score   support\n",
      "\n",
      "           0       0.89      0.96      0.92       313\n",
      "           1       0.59      0.34      0.43        58\n",
      "\n",
      "    accuracy                           0.86       371\n",
      "   macro avg       0.74      0.65      0.68       371\n",
      "weighted avg       0.84      0.86      0.84       371\n",
      "\n",
      "Reporte de metricas para un threshold = 0.45\n",
      "\n",
      "               precision    recall  f1-score   support\n",
      "\n",
      "           0       0.89      0.97      0.93       313\n",
      "           1       0.68      0.33      0.44        58\n",
      "\n",
      "    accuracy                           0.87       371\n",
      "   macro avg       0.78      0.65      0.68       371\n",
      "weighted avg       0.85      0.87      0.85       371\n",
      "\n",
      "Reporte de metricas para un threshold = 0.5\n",
      "\n",
      "               precision    recall  f1-score   support\n",
      "\n",
      "           0       0.88      0.97      0.93       313\n",
      "           1       0.69      0.31      0.43        58\n",
      "\n",
      "    accuracy                           0.87       371\n",
      "   macro avg       0.79      0.64      0.68       371\n",
      "weighted avg       0.85      0.87      0.85       371\n",
      "\n",
      "Reporte de metricas para un threshold = 0.6\n",
      "\n",
      "               precision    recall  f1-score   support\n",
      "\n",
      "           0       0.88      0.98      0.93       313\n",
      "           1       0.75      0.31      0.44        58\n",
      "\n",
      "    accuracy                           0.88       371\n",
      "   macro avg       0.82      0.65      0.68       371\n",
      "weighted avg       0.86      0.88      0.85       371\n",
      "\n",
      "Reporte de metricas para un threshold = 0.65\n",
      "\n",
      "               precision    recall  f1-score   support\n",
      "\n",
      "           0       0.89      0.98      0.93       313\n",
      "           1       0.78      0.31      0.44        58\n",
      "\n",
      "    accuracy                           0.88       371\n",
      "   macro avg       0.83      0.65      0.69       371\n",
      "weighted avg       0.87      0.88      0.86       371\n",
      "\n",
      "Reporte de metricas para un threshold = 0.8\n",
      "\n",
      "               precision    recall  f1-score   support\n",
      "\n",
      "           0       0.88      1.00      0.93       313\n",
      "           1       0.94      0.26      0.41        58\n",
      "\n",
      "    accuracy                           0.88       371\n",
      "   macro avg       0.91      0.63      0.67       371\n",
      "weighted avg       0.89      0.88      0.85       371\n",
      "\n",
      "Reporte de metricas para un threshold = 0.9\n",
      "\n",
      "               precision    recall  f1-score   support\n",
      "\n",
      "           0       0.87      1.00      0.93       313\n",
      "           1       1.00      0.21      0.34        58\n",
      "\n",
      "    accuracy                           0.88       371\n",
      "   macro avg       0.94      0.60      0.64       371\n",
      "weighted avg       0.89      0.88      0.84       371\n",
      "\n"
     ]
    }
   ],
   "source": [
    "for t in thresholds:\n",
    "    y_predict = clf2.predict_proba(X_test)[:,1]\n",
    "    prediction = np.where(y_predict>t, 1, 0)\n",
    "    print(\"Reporte de metricas para un threshold = \" + str(t) + \"\\n\\n\", classification_report(y_test, prediction))\n",
    "    "
   ]
  },
  {
   "cell_type": "markdown",
   "id": "a2945cfa",
   "metadata": {},
   "source": [
    "### Matrices de confusion"
   ]
  },
  {
   "cell_type": "code",
   "execution_count": 30,
   "id": "9de1a637",
   "metadata": {},
   "outputs": [],
   "source": [
    "from sklearn.metrics import confusion_matrix"
   ]
  },
  {
   "cell_type": "code",
   "execution_count": 31,
   "id": "07deea16",
   "metadata": {},
   "outputs": [
    {
     "name": "stdout",
     "output_type": "stream",
     "text": [
      "[[305   8]\n",
      " [ 40  18]]\n"
     ]
    }
   ],
   "source": [
    "confMatrix = confusion_matrix(y_test, y_pred, labels = [0,1])\n",
    "print(confMatrix)"
   ]
  },
  {
   "cell_type": "code",
   "execution_count": 32,
   "id": "66ef7f77",
   "metadata": {},
   "outputs": [
    {
     "name": "stdout",
     "output_type": "stream",
     "text": [
      "305 8 40 18\n"
     ]
    }
   ],
   "source": [
    "tn, fp, fn, tp = confMatrix.ravel()\n",
    "print(tn, fp, fn, tp)"
   ]
  },
  {
   "cell_type": "code",
   "execution_count": 33,
   "id": "8b1f620a",
   "metadata": {},
   "outputs": [
    {
     "name": "stdout",
     "output_type": "stream",
     "text": [
      "Matriz de confusion para un threshold = 0.1\n",
      "\n",
      " [[199 114]\n",
      " [ 13  45]]\n",
      "Cantidad de True Positives: 45\n",
      "Cantidad de True Negatives: 199\n",
      "Cantidad de False Positives: 114\n",
      "Cantidad de False Negatives: 13\n",
      "\n",
      "\n",
      "Matriz de confusion para un threshold = 0.2\n",
      "\n",
      " [[258  55]\n",
      " [ 23  35]]\n",
      "Cantidad de True Positives: 35\n",
      "Cantidad de True Negatives: 258\n",
      "Cantidad de False Positives: 55\n",
      "Cantidad de False Negatives: 23\n",
      "\n",
      "\n",
      "Matriz de confusion para un threshold = 0.3\n",
      "\n",
      " [[285  28]\n",
      " [ 32  26]]\n",
      "Cantidad de True Positives: 26\n",
      "Cantidad de True Negatives: 285\n",
      "Cantidad de False Positives: 28\n",
      "Cantidad de False Negatives: 32\n",
      "\n",
      "\n",
      "Matriz de confusion para un threshold = 0.35\n",
      "\n",
      " [[295  18]\n",
      " [ 37  21]]\n",
      "Cantidad de True Positives: 21\n",
      "Cantidad de True Negatives: 295\n",
      "Cantidad de False Positives: 18\n",
      "Cantidad de False Negatives: 37\n",
      "\n",
      "\n",
      "Matriz de confusion para un threshold = 0.4\n",
      "\n",
      " [[299  14]\n",
      " [ 38  20]]\n",
      "Cantidad de True Positives: 20\n",
      "Cantidad de True Negatives: 299\n",
      "Cantidad de False Positives: 14\n",
      "Cantidad de False Negatives: 38\n",
      "\n",
      "\n",
      "Matriz de confusion para un threshold = 0.45\n",
      "\n",
      " [[304   9]\n",
      " [ 39  19]]\n",
      "Cantidad de True Positives: 19\n",
      "Cantidad de True Negatives: 304\n",
      "Cantidad de False Positives: 9\n",
      "Cantidad de False Negatives: 39\n",
      "\n",
      "\n",
      "Matriz de confusion para un threshold = 0.5\n",
      "\n",
      " [[305   8]\n",
      " [ 40  18]]\n",
      "Cantidad de True Positives: 18\n",
      "Cantidad de True Negatives: 305\n",
      "Cantidad de False Positives: 8\n",
      "Cantidad de False Negatives: 40\n",
      "\n",
      "\n",
      "Matriz de confusion para un threshold = 0.6\n",
      "\n",
      " [[307   6]\n",
      " [ 40  18]]\n",
      "Cantidad de True Positives: 18\n",
      "Cantidad de True Negatives: 307\n",
      "Cantidad de False Positives: 6\n",
      "Cantidad de False Negatives: 40\n",
      "\n",
      "\n",
      "Matriz de confusion para un threshold = 0.65\n",
      "\n",
      " [[308   5]\n",
      " [ 40  18]]\n",
      "Cantidad de True Positives: 18\n",
      "Cantidad de True Negatives: 308\n",
      "Cantidad de False Positives: 5\n",
      "Cantidad de False Negatives: 40\n",
      "\n",
      "\n",
      "Matriz de confusion para un threshold = 0.8\n",
      "\n",
      " [[312   1]\n",
      " [ 43  15]]\n",
      "Cantidad de True Positives: 15\n",
      "Cantidad de True Negatives: 312\n",
      "Cantidad de False Positives: 1\n",
      "Cantidad de False Negatives: 43\n",
      "\n",
      "\n",
      "Matriz de confusion para un threshold = 0.9\n",
      "\n",
      " [[313   0]\n",
      " [ 46  12]]\n",
      "Cantidad de True Positives: 12\n",
      "Cantidad de True Negatives: 313\n",
      "Cantidad de False Positives: 0\n",
      "Cantidad de False Negatives: 46\n",
      "\n",
      "\n"
     ]
    }
   ],
   "source": [
    "for t in thresholds:\n",
    "    y_predict = clf2.predict_proba(X_test)[:,1]\n",
    "    prediction = np.where(y_predict>t, 1, 0)\n",
    "    confMatrix = confusion_matrix(y_test, prediction, labels = [0,1])\n",
    "    tn, fp, fn, tp = confMatrix.ravel()\n",
    "    print(\"Matriz de confusion para un threshold = \" + str(t) + \"\\n\\n\", confMatrix)\n",
    "    print(\"Cantidad de True Positives: {}\".format(tp))\n",
    "    print(\"Cantidad de True Negatives: {}\".format(tn))\n",
    "    print(\"Cantidad de False Positives: {}\".format(fp))\n",
    "    print(\"Cantidad de False Negatives: {}\".format(fn) + \"\\n\\n\") "
   ]
  },
  {
   "cell_type": "code",
   "execution_count": 34,
   "id": "dabae1e9",
   "metadata": {},
   "outputs": [],
   "source": [
    "# from utils import plot_confusion_matrix\n",
    "\n",
    "# plot_confusion_matrix(confMatrix, [0, 1])"
   ]
  },
  {
   "cell_type": "markdown",
   "id": "732cdc78",
   "metadata": {},
   "source": [
    "### Conclusiones:\n",
    "* Con el reporte de metricas se puede observar que el threshold que marca la mejor precision es el del 0.90\n",
    "* Analizando el mismo threshold (90%) la precision para predecir casos positivos, en este caso de clientes que no van a abonar su deuda, es perfecto (precision = 1) \n",
    "* El analisis descripto en el punto anterior se puede observar con mejor calidad en la matriz de confusion. La cual arroja un resultado como false positive = 0. "
   ]
  },
  {
   "cell_type": "markdown",
   "id": "0aa26c41",
   "metadata": {},
   "source": [
    "## Ejercicio 2.2: Ajuste de Hiperparámetros\n",
    "Seleccionar valores para los hiperparámetros principales del SGDClassifier. Como mínimo, probar diferentes funciones de loss, tasas de entrenamiento y tasas de regularización.\n",
    "\n",
    "Para ello, usar grid-search y 5-fold cross-validation sobre el conjunto de entrenamiento para explorar muchas combinaciones posibles de valores.\n",
    "\n",
    "Reportar accuracy promedio y varianza para todas las configuraciones.\n",
    "\n",
    "Para la mejor configuración encontrada, evaluar sobre el conjunto de entrenamiento y sobre el conjunto de evaluación, reportando:\n",
    "\n",
    "* Accuracy\n",
    "* Precision\n",
    "* Recall\n",
    "* F1\n",
    "* matriz de confusión"
   ]
  },
  {
   "cell_type": "code",
   "execution_count": 35,
   "id": "836eab69",
   "metadata": {},
   "outputs": [],
   "source": [
    "from scipy.stats import loguniform"
   ]
  },
  {
   "cell_type": "code",
   "execution_count": 36,
   "id": "e0b8dd57",
   "metadata": {},
   "outputs": [],
   "source": [
    "parameters = {'loss': ['hinge', 'log_loss'],\n",
    "              'alpha': loguniform(1e-4, 1e2),\n",
    "              'penalty': ['l1', 'l2']  \n",
    "}"
   ]
  },
  {
   "attachments": {
    "image.png": {
     "image/png": "[encoded data removed]"
    }
   },
   "cell_type": "markdown",
   "id": "3abc6865",
   "metadata": {},
   "source": [
    "Busqueda del mejor modelo con Randomized Search de Sk Learn. El metodo por default usa un cross validation con cv = 5\n",
    "\n",
    "![image.png](attachment:image.png)"
   ]
  },
  {
   "cell_type": "code",
   "execution_count": 37,
   "id": "2d7e7435",
   "metadata": {},
   "outputs": [
    {
     "name": "stderr",
     "output_type": "stream",
     "text": [
      "C:\\Users\\Lenovo\\.conda\\envs\\Python 2021\\lib\\site-packages\\sklearn\\linear_model\\_stochastic_gradient.py:705: ConvergenceWarning: Maximum number of iteration reached before convergence. Consider increasing max_iter to improve the fit.\n",
      "  warnings.warn(\n",
      "C:\\Users\\Lenovo\\.conda\\envs\\Python 2021\\lib\\site-packages\\sklearn\\linear_model\\_stochastic_gradient.py:705: ConvergenceWarning: Maximum number of iteration reached before convergence. Consider increasing max_iter to improve the fit.\n",
      "  warnings.warn(\n",
      "C:\\Users\\Lenovo\\.conda\\envs\\Python 2021\\lib\\site-packages\\sklearn\\linear_model\\_stochastic_gradient.py:705: ConvergenceWarning: Maximum number of iteration reached before convergence. Consider increasing max_iter to improve the fit.\n",
      "  warnings.warn(\n",
      "C:\\Users\\Lenovo\\.conda\\envs\\Python 2021\\lib\\site-packages\\sklearn\\linear_model\\_stochastic_gradient.py:705: ConvergenceWarning: Maximum number of iteration reached before convergence. Consider increasing max_iter to improve the fit.\n",
      "  warnings.warn(\n",
      "C:\\Users\\Lenovo\\.conda\\envs\\Python 2021\\lib\\site-packages\\sklearn\\linear_model\\_stochastic_gradient.py:705: ConvergenceWarning: Maximum number of iteration reached before convergence. Consider increasing max_iter to improve the fit.\n",
      "  warnings.warn(\n",
      "C:\\Users\\Lenovo\\.conda\\envs\\Python 2021\\lib\\site-packages\\sklearn\\linear_model\\_stochastic_gradient.py:705: ConvergenceWarning: Maximum number of iteration reached before convergence. Consider increasing max_iter to improve the fit.\n",
      "  warnings.warn(\n",
      "C:\\Users\\Lenovo\\.conda\\envs\\Python 2021\\lib\\site-packages\\sklearn\\linear_model\\_stochastic_gradient.py:705: ConvergenceWarning: Maximum number of iteration reached before convergence. Consider increasing max_iter to improve the fit.\n",
      "  warnings.warn(\n",
      "C:\\Users\\Lenovo\\.conda\\envs\\Python 2021\\lib\\site-packages\\sklearn\\linear_model\\_stochastic_gradient.py:705: ConvergenceWarning: Maximum number of iteration reached before convergence. Consider increasing max_iter to improve the fit.\n",
      "  warnings.warn(\n",
      "C:\\Users\\Lenovo\\.conda\\envs\\Python 2021\\lib\\site-packages\\sklearn\\linear_model\\_stochastic_gradient.py:705: ConvergenceWarning: Maximum number of iteration reached before convergence. Consider increasing max_iter to improve the fit.\n",
      "  warnings.warn(\n",
      "C:\\Users\\Lenovo\\.conda\\envs\\Python 2021\\lib\\site-packages\\sklearn\\linear_model\\_stochastic_gradient.py:705: ConvergenceWarning: Maximum number of iteration reached before convergence. Consider increasing max_iter to improve the fit.\n",
      "  warnings.warn(\n",
      "C:\\Users\\Lenovo\\.conda\\envs\\Python 2021\\lib\\site-packages\\sklearn\\linear_model\\_stochastic_gradient.py:705: ConvergenceWarning: Maximum number of iteration reached before convergence. Consider increasing max_iter to improve the fit.\n",
      "  warnings.warn(\n",
      "C:\\Users\\Lenovo\\.conda\\envs\\Python 2021\\lib\\site-packages\\sklearn\\linear_model\\_stochastic_gradient.py:705: ConvergenceWarning: Maximum number of iteration reached before convergence. Consider increasing max_iter to improve the fit.\n",
      "  warnings.warn(\n",
      "C:\\Users\\Lenovo\\.conda\\envs\\Python 2021\\lib\\site-packages\\sklearn\\linear_model\\_stochastic_gradient.py:705: ConvergenceWarning: Maximum number of iteration reached before convergence. Consider increasing max_iter to improve the fit.\n",
      "  warnings.warn(\n",
      "C:\\Users\\Lenovo\\.conda\\envs\\Python 2021\\lib\\site-packages\\sklearn\\linear_model\\_stochastic_gradient.py:705: ConvergenceWarning: Maximum number of iteration reached before convergence. Consider increasing max_iter to improve the fit.\n",
      "  warnings.warn(\n",
      "C:\\Users\\Lenovo\\.conda\\envs\\Python 2021\\lib\\site-packages\\sklearn\\linear_model\\_stochastic_gradient.py:705: ConvergenceWarning: Maximum number of iteration reached before convergence. Consider increasing max_iter to improve the fit.\n",
      "  warnings.warn(\n",
      "C:\\Users\\Lenovo\\.conda\\envs\\Python 2021\\lib\\site-packages\\sklearn\\linear_model\\_stochastic_gradient.py:705: ConvergenceWarning: Maximum number of iteration reached before convergence. Consider increasing max_iter to improve the fit.\n",
      "  warnings.warn(\n",
      "C:\\Users\\Lenovo\\.conda\\envs\\Python 2021\\lib\\site-packages\\sklearn\\linear_model\\_stochastic_gradient.py:705: ConvergenceWarning: Maximum number of iteration reached before convergence. Consider increasing max_iter to improve the fit.\n",
      "  warnings.warn(\n",
      "C:\\Users\\Lenovo\\.conda\\envs\\Python 2021\\lib\\site-packages\\sklearn\\linear_model\\_stochastic_gradient.py:705: ConvergenceWarning: Maximum number of iteration reached before convergence. Consider increasing max_iter to improve the fit.\n",
      "  warnings.warn(\n",
      "C:\\Users\\Lenovo\\.conda\\envs\\Python 2021\\lib\\site-packages\\sklearn\\linear_model\\_stochastic_gradient.py:705: ConvergenceWarning: Maximum number of iteration reached before convergence. Consider increasing max_iter to improve the fit.\n",
      "  warnings.warn(\n",
      "C:\\Users\\Lenovo\\.conda\\envs\\Python 2021\\lib\\site-packages\\sklearn\\linear_model\\_stochastic_gradient.py:705: ConvergenceWarning: Maximum number of iteration reached before convergence. Consider increasing max_iter to improve the fit.\n",
      "  warnings.warn(\n",
      "C:\\Users\\Lenovo\\.conda\\envs\\Python 2021\\lib\\site-packages\\sklearn\\linear_model\\_stochastic_gradient.py:705: ConvergenceWarning: Maximum number of iteration reached before convergence. Consider increasing max_iter to improve the fit.\n",
      "  warnings.warn(\n",
      "C:\\Users\\Lenovo\\.conda\\envs\\Python 2021\\lib\\site-packages\\sklearn\\linear_model\\_stochastic_gradient.py:705: ConvergenceWarning: Maximum number of iteration reached before convergence. Consider increasing max_iter to improve the fit.\n",
      "  warnings.warn(\n",
      "C:\\Users\\Lenovo\\.conda\\envs\\Python 2021\\lib\\site-packages\\sklearn\\linear_model\\_stochastic_gradient.py:705: ConvergenceWarning: Maximum number of iteration reached before convergence. Consider increasing max_iter to improve the fit.\n",
      "  warnings.warn(\n",
      "C:\\Users\\Lenovo\\.conda\\envs\\Python 2021\\lib\\site-packages\\sklearn\\linear_model\\_stochastic_gradient.py:705: ConvergenceWarning: Maximum number of iteration reached before convergence. Consider increasing max_iter to improve the fit.\n",
      "  warnings.warn(\n",
      "C:\\Users\\Lenovo\\.conda\\envs\\Python 2021\\lib\\site-packages\\sklearn\\linear_model\\_stochastic_gradient.py:705: ConvergenceWarning: Maximum number of iteration reached before convergence. Consider increasing max_iter to improve the fit.\n",
      "  warnings.warn(\n",
      "C:\\Users\\Lenovo\\.conda\\envs\\Python 2021\\lib\\site-packages\\sklearn\\linear_model\\_stochastic_gradient.py:705: ConvergenceWarning: Maximum number of iteration reached before convergence. Consider increasing max_iter to improve the fit.\n",
      "  warnings.warn(\n",
      "C:\\Users\\Lenovo\\.conda\\envs\\Python 2021\\lib\\site-packages\\sklearn\\linear_model\\_stochastic_gradient.py:705: ConvergenceWarning: Maximum number of iteration reached before convergence. Consider increasing max_iter to improve the fit.\n",
      "  warnings.warn(\n",
      "C:\\Users\\Lenovo\\.conda\\envs\\Python 2021\\lib\\site-packages\\sklearn\\linear_model\\_stochastic_gradient.py:705: ConvergenceWarning: Maximum number of iteration reached before convergence. Consider increasing max_iter to improve the fit.\n",
      "  warnings.warn(\n",
      "C:\\Users\\Lenovo\\.conda\\envs\\Python 2021\\lib\\site-packages\\sklearn\\linear_model\\_stochastic_gradient.py:705: ConvergenceWarning: Maximum number of iteration reached before convergence. Consider increasing max_iter to improve the fit.\n",
      "  warnings.warn(\n",
      "C:\\Users\\Lenovo\\.conda\\envs\\Python 2021\\lib\\site-packages\\sklearn\\linear_model\\_stochastic_gradient.py:705: ConvergenceWarning: Maximum number of iteration reached before convergence. Consider increasing max_iter to improve the fit.\n",
      "  warnings.warn(\n",
      "C:\\Users\\Lenovo\\.conda\\envs\\Python 2021\\lib\\site-packages\\sklearn\\linear_model\\_stochastic_gradient.py:705: ConvergenceWarning: Maximum number of iteration reached before convergence. Consider increasing max_iter to improve the fit.\n",
      "  warnings.warn(\n",
      "C:\\Users\\Lenovo\\.conda\\envs\\Python 2021\\lib\\site-packages\\sklearn\\linear_model\\_stochastic_gradient.py:705: ConvergenceWarning: Maximum number of iteration reached before convergence. Consider increasing max_iter to improve the fit.\n",
      "  warnings.warn(\n",
      "C:\\Users\\Lenovo\\.conda\\envs\\Python 2021\\lib\\site-packages\\sklearn\\linear_model\\_stochastic_gradient.py:705: ConvergenceWarning: Maximum number of iteration reached before convergence. Consider increasing max_iter to improve the fit.\n",
      "  warnings.warn(\n",
      "C:\\Users\\Lenovo\\.conda\\envs\\Python 2021\\lib\\site-packages\\sklearn\\linear_model\\_stochastic_gradient.py:705: ConvergenceWarning: Maximum number of iteration reached before convergence. Consider increasing max_iter to improve the fit.\n",
      "  warnings.warn(\n",
      "C:\\Users\\Lenovo\\.conda\\envs\\Python 2021\\lib\\site-packages\\sklearn\\linear_model\\_stochastic_gradient.py:705: ConvergenceWarning: Maximum number of iteration reached before convergence. Consider increasing max_iter to improve the fit.\n",
      "  warnings.warn(\n",
      "C:\\Users\\Lenovo\\.conda\\envs\\Python 2021\\lib\\site-packages\\sklearn\\linear_model\\_stochastic_gradient.py:705: ConvergenceWarning: Maximum number of iteration reached before convergence. Consider increasing max_iter to improve the fit.\n",
      "  warnings.warn(\n",
      "C:\\Users\\Lenovo\\.conda\\envs\\Python 2021\\lib\\site-packages\\sklearn\\linear_model\\_stochastic_gradient.py:705: ConvergenceWarning: Maximum number of iteration reached before convergence. Consider increasing max_iter to improve the fit.\n",
      "  warnings.warn(\n",
      "C:\\Users\\Lenovo\\.conda\\envs\\Python 2021\\lib\\site-packages\\sklearn\\linear_model\\_stochastic_gradient.py:705: ConvergenceWarning: Maximum number of iteration reached before convergence. Consider increasing max_iter to improve the fit.\n",
      "  warnings.warn(\n",
      "C:\\Users\\Lenovo\\.conda\\envs\\Python 2021\\lib\\site-packages\\sklearn\\linear_model\\_stochastic_gradient.py:705: ConvergenceWarning: Maximum number of iteration reached before convergence. Consider increasing max_iter to improve the fit.\n",
      "  warnings.warn(\n",
      "C:\\Users\\Lenovo\\.conda\\envs\\Python 2021\\lib\\site-packages\\sklearn\\linear_model\\_stochastic_gradient.py:705: ConvergenceWarning: Maximum number of iteration reached before convergence. Consider increasing max_iter to improve the fit.\n",
      "  warnings.warn(\n",
      "C:\\Users\\Lenovo\\.conda\\envs\\Python 2021\\lib\\site-packages\\sklearn\\linear_model\\_stochastic_gradient.py:705: ConvergenceWarning: Maximum number of iteration reached before convergence. Consider increasing max_iter to improve the fit.\n",
      "  warnings.warn(\n",
      "C:\\Users\\Lenovo\\.conda\\envs\\Python 2021\\lib\\site-packages\\sklearn\\linear_model\\_stochastic_gradient.py:705: ConvergenceWarning: Maximum number of iteration reached before convergence. Consider increasing max_iter to improve the fit.\n",
      "  warnings.warn(\n",
      "C:\\Users\\Lenovo\\.conda\\envs\\Python 2021\\lib\\site-packages\\sklearn\\linear_model\\_stochastic_gradient.py:705: ConvergenceWarning: Maximum number of iteration reached before convergence. Consider increasing max_iter to improve the fit.\n",
      "  warnings.warn(\n",
      "C:\\Users\\Lenovo\\.conda\\envs\\Python 2021\\lib\\site-packages\\sklearn\\linear_model\\_stochastic_gradient.py:705: ConvergenceWarning: Maximum number of iteration reached before convergence. Consider increasing max_iter to improve the fit.\n",
      "  warnings.warn(\n",
      "C:\\Users\\Lenovo\\.conda\\envs\\Python 2021\\lib\\site-packages\\sklearn\\linear_model\\_stochastic_gradient.py:705: ConvergenceWarning: Maximum number of iteration reached before convergence. Consider increasing max_iter to improve the fit.\n",
      "  warnings.warn(\n",
      "C:\\Users\\Lenovo\\.conda\\envs\\Python 2021\\lib\\site-packages\\sklearn\\linear_model\\_stochastic_gradient.py:705: ConvergenceWarning: Maximum number of iteration reached before convergence. Consider increasing max_iter to improve the fit.\n",
      "  warnings.warn(\n",
      "C:\\Users\\Lenovo\\.conda\\envs\\Python 2021\\lib\\site-packages\\sklearn\\linear_model\\_stochastic_gradient.py:705: ConvergenceWarning: Maximum number of iteration reached before convergence. Consider increasing max_iter to improve the fit.\n",
      "  warnings.warn(\n",
      "C:\\Users\\Lenovo\\.conda\\envs\\Python 2021\\lib\\site-packages\\sklearn\\linear_model\\_stochastic_gradient.py:705: ConvergenceWarning: Maximum number of iteration reached before convergence. Consider increasing max_iter to improve the fit.\n",
      "  warnings.warn(\n",
      "C:\\Users\\Lenovo\\.conda\\envs\\Python 2021\\lib\\site-packages\\sklearn\\linear_model\\_stochastic_gradient.py:705: ConvergenceWarning: Maximum number of iteration reached before convergence. Consider increasing max_iter to improve the fit.\n",
      "  warnings.warn(\n",
      "C:\\Users\\Lenovo\\.conda\\envs\\Python 2021\\lib\\site-packages\\sklearn\\linear_model\\_stochastic_gradient.py:705: ConvergenceWarning: Maximum number of iteration reached before convergence. Consider increasing max_iter to improve the fit.\n",
      "  warnings.warn(\n",
      "C:\\Users\\Lenovo\\.conda\\envs\\Python 2021\\lib\\site-packages\\sklearn\\linear_model\\_stochastic_gradient.py:705: ConvergenceWarning: Maximum number of iteration reached before convergence. Consider increasing max_iter to improve the fit.\n",
      "  warnings.warn(\n",
      "C:\\Users\\Lenovo\\.conda\\envs\\Python 2021\\lib\\site-packages\\sklearn\\linear_model\\_stochastic_gradient.py:705: ConvergenceWarning: Maximum number of iteration reached before convergence. Consider increasing max_iter to improve the fit.\n",
      "  warnings.warn(\n",
      "C:\\Users\\Lenovo\\.conda\\envs\\Python 2021\\lib\\site-packages\\sklearn\\linear_model\\_stochastic_gradient.py:705: ConvergenceWarning: Maximum number of iteration reached before convergence. Consider increasing max_iter to improve the fit.\n",
      "  warnings.warn(\n",
      "C:\\Users\\Lenovo\\.conda\\envs\\Python 2021\\lib\\site-packages\\sklearn\\linear_model\\_stochastic_gradient.py:705: ConvergenceWarning: Maximum number of iteration reached before convergence. Consider increasing max_iter to improve the fit.\n",
      "  warnings.warn(\n",
      "C:\\Users\\Lenovo\\.conda\\envs\\Python 2021\\lib\\site-packages\\sklearn\\linear_model\\_stochastic_gradient.py:705: ConvergenceWarning: Maximum number of iteration reached before convergence. Consider increasing max_iter to improve the fit.\n",
      "  warnings.warn(\n",
      "C:\\Users\\Lenovo\\.conda\\envs\\Python 2021\\lib\\site-packages\\sklearn\\linear_model\\_stochastic_gradient.py:705: ConvergenceWarning: Maximum number of iteration reached before convergence. Consider increasing max_iter to improve the fit.\n",
      "  warnings.warn(\n",
      "C:\\Users\\Lenovo\\.conda\\envs\\Python 2021\\lib\\site-packages\\sklearn\\linear_model\\_stochastic_gradient.py:705: ConvergenceWarning: Maximum number of iteration reached before convergence. Consider increasing max_iter to improve the fit.\n",
      "  warnings.warn(\n",
      "C:\\Users\\Lenovo\\.conda\\envs\\Python 2021\\lib\\site-packages\\sklearn\\linear_model\\_stochastic_gradient.py:705: ConvergenceWarning: Maximum number of iteration reached before convergence. Consider increasing max_iter to improve the fit.\n",
      "  warnings.warn(\n",
      "C:\\Users\\Lenovo\\.conda\\envs\\Python 2021\\lib\\site-packages\\sklearn\\linear_model\\_stochastic_gradient.py:705: ConvergenceWarning: Maximum number of iteration reached before convergence. Consider increasing max_iter to improve the fit.\n",
      "  warnings.warn(\n",
      "C:\\Users\\Lenovo\\.conda\\envs\\Python 2021\\lib\\site-packages\\sklearn\\linear_model\\_stochastic_gradient.py:705: ConvergenceWarning: Maximum number of iteration reached before convergence. Consider increasing max_iter to improve the fit.\n",
      "  warnings.warn(\n",
      "C:\\Users\\Lenovo\\.conda\\envs\\Python 2021\\lib\\site-packages\\sklearn\\linear_model\\_stochastic_gradient.py:705: ConvergenceWarning: Maximum number of iteration reached before convergence. Consider increasing max_iter to improve the fit.\n",
      "  warnings.warn(\n",
      "C:\\Users\\Lenovo\\.conda\\envs\\Python 2021\\lib\\site-packages\\sklearn\\linear_model\\_stochastic_gradient.py:705: ConvergenceWarning: Maximum number of iteration reached before convergence. Consider increasing max_iter to improve the fit.\n",
      "  warnings.warn(\n",
      "C:\\Users\\Lenovo\\.conda\\envs\\Python 2021\\lib\\site-packages\\sklearn\\linear_model\\_stochastic_gradient.py:705: ConvergenceWarning: Maximum number of iteration reached before convergence. Consider increasing max_iter to improve the fit.\n",
      "  warnings.warn(\n",
      "C:\\Users\\Lenovo\\.conda\\envs\\Python 2021\\lib\\site-packages\\sklearn\\linear_model\\_stochastic_gradient.py:705: ConvergenceWarning: Maximum number of iteration reached before convergence. Consider increasing max_iter to improve the fit.\n",
      "  warnings.warn(\n",
      "C:\\Users\\Lenovo\\.conda\\envs\\Python 2021\\lib\\site-packages\\sklearn\\linear_model\\_stochastic_gradient.py:705: ConvergenceWarning: Maximum number of iteration reached before convergence. Consider increasing max_iter to improve the fit.\n",
      "  warnings.warn(\n",
      "C:\\Users\\Lenovo\\.conda\\envs\\Python 2021\\lib\\site-packages\\sklearn\\linear_model\\_stochastic_gradient.py:705: ConvergenceWarning: Maximum number of iteration reached before convergence. Consider increasing max_iter to improve the fit.\n",
      "  warnings.warn(\n",
      "C:\\Users\\Lenovo\\.conda\\envs\\Python 2021\\lib\\site-packages\\sklearn\\linear_model\\_stochastic_gradient.py:705: ConvergenceWarning: Maximum number of iteration reached before convergence. Consider increasing max_iter to improve the fit.\n",
      "  warnings.warn(\n",
      "C:\\Users\\Lenovo\\.conda\\envs\\Python 2021\\lib\\site-packages\\sklearn\\linear_model\\_stochastic_gradient.py:705: ConvergenceWarning: Maximum number of iteration reached before convergence. Consider increasing max_iter to improve the fit.\n",
      "  warnings.warn(\n",
      "C:\\Users\\Lenovo\\.conda\\envs\\Python 2021\\lib\\site-packages\\sklearn\\linear_model\\_stochastic_gradient.py:705: ConvergenceWarning: Maximum number of iteration reached before convergence. Consider increasing max_iter to improve the fit.\n",
      "  warnings.warn(\n",
      "C:\\Users\\Lenovo\\.conda\\envs\\Python 2021\\lib\\site-packages\\sklearn\\linear_model\\_stochastic_gradient.py:705: ConvergenceWarning: Maximum number of iteration reached before convergence. Consider increasing max_iter to improve the fit.\n",
      "  warnings.warn(\n",
      "C:\\Users\\Lenovo\\.conda\\envs\\Python 2021\\lib\\site-packages\\sklearn\\linear_model\\_stochastic_gradient.py:705: ConvergenceWarning: Maximum number of iteration reached before convergence. Consider increasing max_iter to improve the fit.\n",
      "  warnings.warn(\n",
      "C:\\Users\\Lenovo\\.conda\\envs\\Python 2021\\lib\\site-packages\\sklearn\\linear_model\\_stochastic_gradient.py:705: ConvergenceWarning: Maximum number of iteration reached before convergence. Consider increasing max_iter to improve the fit.\n",
      "  warnings.warn(\n",
      "C:\\Users\\Lenovo\\.conda\\envs\\Python 2021\\lib\\site-packages\\sklearn\\linear_model\\_stochastic_gradient.py:705: ConvergenceWarning: Maximum number of iteration reached before convergence. Consider increasing max_iter to improve the fit.\n",
      "  warnings.warn(\n"
     ]
    }
   ],
   "source": [
    "from sklearn.model_selection import RandomizedSearchCV\n",
    "\n",
    "model = SGDClassifier(random_state=0)\n",
    "\n",
    "cv = RandomizedSearchCV(model, parameters,n_iter = 100, random_state=0)\n",
    "cv.fit(X, y);"
   ]
  },
  {
   "cell_type": "code",
   "execution_count": 38,
   "id": "6ef702c0",
   "metadata": {},
   "outputs": [],
   "source": [
    "results = cv.cv_results_"
   ]
  },
  {
   "cell_type": "code",
   "execution_count": 39,
   "id": "d5ce42cf",
   "metadata": {},
   "outputs": [
    {
     "data": {
      "text/html": [
       "<div>\n",
       "<style scoped>\n",
       "    .dataframe tbody tr th:only-of-type {\n",
       "        vertical-align: middle;\n",
       "    }\n",
       "\n",
       "    .dataframe tbody tr th {\n",
       "        vertical-align: top;\n",
       "    }\n",
       "\n",
       "    .dataframe thead th {\n",
       "        text-align: right;\n",
       "    }\n",
       "</style>\n",
       "<table border=\"1\" class=\"dataframe\">\n",
       "  <thead>\n",
       "    <tr style=\"text-align: right;\">\n",
       "      <th></th>\n",
       "      <th>mean_fit_time</th>\n",
       "      <th>std_fit_time</th>\n",
       "      <th>mean_score_time</th>\n",
       "      <th>std_score_time</th>\n",
       "      <th>param_alpha</th>\n",
       "      <th>param_loss</th>\n",
       "      <th>param_penalty</th>\n",
       "      <th>params</th>\n",
       "      <th>split0_test_score</th>\n",
       "      <th>split1_test_score</th>\n",
       "      <th>split2_test_score</th>\n",
       "      <th>split3_test_score</th>\n",
       "      <th>split4_test_score</th>\n",
       "      <th>mean_test_score</th>\n",
       "      <th>std_test_score</th>\n",
       "      <th>rank_test_score</th>\n",
       "    </tr>\n",
       "  </thead>\n",
       "  <tbody>\n",
       "    <tr>\n",
       "      <th>0</th>\n",
       "      <td>0.057245</td>\n",
       "      <td>0.062153</td>\n",
       "      <td>0.003392</td>\n",
       "      <td>0.000489</td>\n",
       "      <td>0.196282</td>\n",
       "      <td>log_loss</td>\n",
       "      <td>l1</td>\n",
       "      <td>{'alpha': 0.196282248134428, 'loss': 'log_loss...</td>\n",
       "      <td>0.830189</td>\n",
       "      <td>0.832884</td>\n",
       "      <td>0.711590</td>\n",
       "      <td>0.832884</td>\n",
       "      <td>0.835135</td>\n",
       "      <td>0.808536</td>\n",
       "      <td>0.048498</td>\n",
       "      <td>35</td>\n",
       "    </tr>\n",
       "    <tr>\n",
       "      <th>1</th>\n",
       "      <td>0.020125</td>\n",
       "      <td>0.006092</td>\n",
       "      <td>0.003198</td>\n",
       "      <td>0.000395</td>\n",
       "      <td>0.4136</td>\n",
       "      <td>log_loss</td>\n",
       "      <td>l2</td>\n",
       "      <td>{'alpha': 0.4135997393839892, 'loss': 'log_los...</td>\n",
       "      <td>0.822102</td>\n",
       "      <td>0.832884</td>\n",
       "      <td>0.167116</td>\n",
       "      <td>0.805930</td>\n",
       "      <td>0.835135</td>\n",
       "      <td>0.692633</td>\n",
       "      <td>0.262962</td>\n",
       "      <td>77</td>\n",
       "    </tr>\n",
       "    <tr>\n",
       "      <th>2</th>\n",
       "      <td>0.028336</td>\n",
       "      <td>0.010734</td>\n",
       "      <td>0.002995</td>\n",
       "      <td>0.000632</td>\n",
       "      <td>0.034828</td>\n",
       "      <td>log_loss</td>\n",
       "      <td>l1</td>\n",
       "      <td>{'alpha': 0.03482802087028331, 'loss': 'log_lo...</td>\n",
       "      <td>0.827493</td>\n",
       "      <td>0.832884</td>\n",
       "      <td>0.832884</td>\n",
       "      <td>0.665768</td>\n",
       "      <td>0.835135</td>\n",
       "      <td>0.798833</td>\n",
       "      <td>0.066580</td>\n",
       "      <td>42</td>\n",
       "    </tr>\n",
       "    <tr>\n",
       "      <th>3</th>\n",
       "      <td>0.011767</td>\n",
       "      <td>0.003647</td>\n",
       "      <td>0.002794</td>\n",
       "      <td>0.000747</td>\n",
       "      <td>0.04222</td>\n",
       "      <td>hinge</td>\n",
       "      <td>l1</td>\n",
       "      <td>{'alpha': 0.042220489831498266, 'loss': 'hinge...</td>\n",
       "      <td>0.819407</td>\n",
       "      <td>0.832884</td>\n",
       "      <td>0.832884</td>\n",
       "      <td>0.832884</td>\n",
       "      <td>0.835135</td>\n",
       "      <td>0.830639</td>\n",
       "      <td>0.005683</td>\n",
       "      <td>20</td>\n",
       "    </tr>\n",
       "    <tr>\n",
       "      <th>4</th>\n",
       "      <td>0.007586</td>\n",
       "      <td>0.001194</td>\n",
       "      <td>0.002000</td>\n",
       "      <td>0.000643</td>\n",
       "      <td>60.530821</td>\n",
       "      <td>hinge</td>\n",
       "      <td>l2</td>\n",
       "      <td>{'alpha': 60.530820800790195, 'loss': 'hinge',...</td>\n",
       "      <td>0.822102</td>\n",
       "      <td>0.832884</td>\n",
       "      <td>0.832884</td>\n",
       "      <td>0.735849</td>\n",
       "      <td>0.835135</td>\n",
       "      <td>0.811771</td>\n",
       "      <td>0.038232</td>\n",
       "      <td>32</td>\n",
       "    </tr>\n",
       "  </tbody>\n",
       "</table>\n",
       "</div>"
      ],
      "text/plain": [
       "   mean_fit_time  std_fit_time  mean_score_time  std_score_time param_alpha  \\\n",
       "0       0.057245      0.062153         0.003392        0.000489    0.196282   \n",
       "1       0.020125      0.006092         0.003198        0.000395      0.4136   \n",
       "2       0.028336      0.010734         0.002995        0.000632    0.034828   \n",
       "3       0.011767      0.003647         0.002794        0.000747     0.04222   \n",
       "4       0.007586      0.001194         0.002000        0.000643   60.530821   \n",
       "\n",
       "  param_loss param_penalty                                             params  \\\n",
       "0   log_loss            l1  {'alpha': 0.196282248134428, 'loss': 'log_loss...   \n",
       "1   log_loss            l2  {'alpha': 0.4135997393839892, 'loss': 'log_los...   \n",
       "2   log_loss            l1  {'alpha': 0.03482802087028331, 'loss': 'log_lo...   \n",
       "3      hinge            l1  {'alpha': 0.042220489831498266, 'loss': 'hinge...   \n",
       "4      hinge            l2  {'alpha': 60.530820800790195, 'loss': 'hinge',...   \n",
       "\n",
       "   split0_test_score  split1_test_score  split2_test_score  split3_test_score  \\\n",
       "0           0.830189           0.832884           0.711590           0.832884   \n",
       "1           0.822102           0.832884           0.167116           0.805930   \n",
       "2           0.827493           0.832884           0.832884           0.665768   \n",
       "3           0.819407           0.832884           0.832884           0.832884   \n",
       "4           0.822102           0.832884           0.832884           0.735849   \n",
       "\n",
       "   split4_test_score  mean_test_score  std_test_score  rank_test_score  \n",
       "0           0.835135         0.808536        0.048498               35  \n",
       "1           0.835135         0.692633        0.262962               77  \n",
       "2           0.835135         0.798833        0.066580               42  \n",
       "3           0.835135         0.830639        0.005683               20  \n",
       "4           0.835135         0.811771        0.038232               32  "
      ]
     },
     "execution_count": 39,
     "metadata": {},
     "output_type": "execute_result"
    }
   ],
   "source": [
    "results_df = pd.DataFrame(results)\n",
    "results_df.head()"
   ]
  },
  {
   "cell_type": "code",
   "execution_count": 40,
   "id": "79bce565",
   "metadata": {},
   "outputs": [],
   "source": [
    "excel = results_df.to_excel(r\"C:\\Users\\franc\\OneDrive\\Escritorio\\TECME\\resultados del modelo.xlsx\")"
   ]
  },
  {
   "cell_type": "code",
   "execution_count": 41,
   "id": "9d48a47c",
   "metadata": {
    "scrolled": false
   },
   "outputs": [
    {
     "name": "stdout",
     "output_type": "stream",
     "text": [
      "El mejor estimador para el modelo es: SGDClassifier(alpha=0.000266818752423705, loss='log_loss', penalty='l1',\n",
      "              random_state=0)\n",
      "Los parametros para el modelo son: {'alpha': 0.000266818752423705, 'loss': 'log_loss', 'penalty': 'l1'}\n"
     ]
    }
   ],
   "source": [
    "print('El mejor estimador para el modelo es: {}'.format(cv.best_estimator_))\n",
    "print('Los parametros para el modelo son: {}'.format(cv.best_params_))"
   ]
  },
  {
   "attachments": {
    "image-3.png": {
     "image/png": "[encoded data removed]"
    }
   },
   "cell_type": "markdown",
   "id": "dcf42965",
   "metadata": {},
   "source": [
    "Resumen con las caracteristicas del mejor modelo:\n",
    "\n",
    "\n",
    "![image-3.png](attachment:image-3.png)"
   ]
  },
  {
   "cell_type": "code",
   "execution_count": 42,
   "id": "2c9a349b",
   "metadata": {},
   "outputs": [
    {
     "data": {
      "text/html": [
       "<style>#sk-container-id-3 {color: black;background-color: white;}#sk-container-id-3 pre{padding: 0;}#sk-container-id-3 div.sk-toggleable {background-color: white;}#sk-container-id-3 label.sk-toggleable__label {cursor: pointer;display: block;width: 100%;margin-bottom: 0;padding: 0.3em;box-sizing: border-box;text-align: center;}#sk-container-id-3 label.sk-toggleable__label-arrow:before {content: \"▸\";float: left;margin-right: 0.25em;color: #696969;}#sk-container-id-3 label.sk-toggleable__label-arrow:hover:before {color: black;}#sk-container-id-3 div.sk-estimator:hover label.sk-toggleable__label-arrow:before {color: black;}#sk-container-id-3 div.sk-toggleable__content {max-height: 0;max-width: 0;overflow: hidden;text-align: left;background-color: #f0f8ff;}#sk-container-id-3 div.sk-toggleable__content pre {margin: 0.2em;color: black;border-radius: 0.25em;background-color: #f0f8ff;}#sk-container-id-3 input.sk-toggleable__control:checked~div.sk-toggleable__content {max-height: 200px;max-width: 100%;overflow: auto;}#sk-container-id-3 input.sk-toggleable__control:checked~label.sk-toggleable__label-arrow:before {content: \"▾\";}#sk-container-id-3 div.sk-estimator input.sk-toggleable__control:checked~label.sk-toggleable__label {background-color: #d4ebff;}#sk-container-id-3 div.sk-label input.sk-toggleable__control:checked~label.sk-toggleable__label {background-color: #d4ebff;}#sk-container-id-3 input.sk-hidden--visually {border: 0;clip: rect(1px 1px 1px 1px);clip: rect(1px, 1px, 1px, 1px);height: 1px;margin: -1px;overflow: hidden;padding: 0;position: absolute;width: 1px;}#sk-container-id-3 div.sk-estimator {font-family: monospace;background-color: #f0f8ff;border: 1px dotted black;border-radius: 0.25em;box-sizing: border-box;margin-bottom: 0.5em;}#sk-container-id-3 div.sk-estimator:hover {background-color: #d4ebff;}#sk-container-id-3 div.sk-parallel-item::after {content: \"\";width: 100%;border-bottom: 1px solid gray;flex-grow: 1;}#sk-container-id-3 div.sk-label:hover label.sk-toggleable__label {background-color: #d4ebff;}#sk-container-id-3 div.sk-serial::before {content: \"\";position: absolute;border-left: 1px solid gray;box-sizing: border-box;top: 0;bottom: 0;left: 50%;z-index: 0;}#sk-container-id-3 div.sk-serial {display: flex;flex-direction: column;align-items: center;background-color: white;padding-right: 0.2em;padding-left: 0.2em;position: relative;}#sk-container-id-3 div.sk-item {position: relative;z-index: 1;}#sk-container-id-3 div.sk-parallel {display: flex;align-items: stretch;justify-content: center;background-color: white;position: relative;}#sk-container-id-3 div.sk-item::before, #sk-container-id-3 div.sk-parallel-item::before {content: \"\";position: absolute;border-left: 1px solid gray;box-sizing: border-box;top: 0;bottom: 0;left: 50%;z-index: -1;}#sk-container-id-3 div.sk-parallel-item {display: flex;flex-direction: column;z-index: 1;position: relative;background-color: white;}#sk-container-id-3 div.sk-parallel-item:first-child::after {align-self: flex-end;width: 50%;}#sk-container-id-3 div.sk-parallel-item:last-child::after {align-self: flex-start;width: 50%;}#sk-container-id-3 div.sk-parallel-item:only-child::after {width: 0;}#sk-container-id-3 div.sk-dashed-wrapped {border: 1px dashed gray;margin: 0 0.4em 0.5em 0.4em;box-sizing: border-box;padding-bottom: 0.4em;background-color: white;}#sk-container-id-3 div.sk-label label {font-family: monospace;font-weight: bold;display: inline-block;line-height: 1.2em;}#sk-container-id-3 div.sk-label-container {text-align: center;}#sk-container-id-3 div.sk-container {/* jupyter's `normalize.less` sets `[hidden] { display: none; }` but bootstrap.min.css set `[hidden] { display: none !important; }` so we also need the `!important` here to be able to override the default hidden behavior on the sphinx rendered scikit-learn.org. See: https://github.com/scikit-learn/scikit-learn/issues/21755 */display: inline-block !important;position: relative;}#sk-container-id-3 div.sk-text-repr-fallback {display: none;}</style><div id=\"sk-container-id-3\" class=\"sk-top-container\"><div class=\"sk-text-repr-fallback\"><pre>Pipeline(steps=[(&#x27;standardscaler&#x27;, StandardScaler()),\n",
       "                (&#x27;sgdclassifier&#x27;,\n",
       "                 SGDClassifier(alpha=0.000266818752423705, loss=&#x27;log_loss&#x27;,\n",
       "                               penalty=&#x27;l1&#x27;, random_state=0))])</pre><b>In a Jupyter environment, please rerun this cell to show the HTML representation or trust the notebook. <br />On GitHub, the HTML representation is unable to render, please try loading this page with nbviewer.org.</b></div><div class=\"sk-container\" hidden><div class=\"sk-item sk-dashed-wrapped\"><div class=\"sk-label-container\"><div class=\"sk-label sk-toggleable\"><input class=\"sk-toggleable__control sk-hidden--visually\" id=\"sk-estimator-id-7\" type=\"checkbox\" ><label for=\"sk-estimator-id-7\" class=\"sk-toggleable__label sk-toggleable__label-arrow\">Pipeline</label><div class=\"sk-toggleable__content\"><pre>Pipeline(steps=[(&#x27;standardscaler&#x27;, StandardScaler()),\n",
       "                (&#x27;sgdclassifier&#x27;,\n",
       "                 SGDClassifier(alpha=0.000266818752423705, loss=&#x27;log_loss&#x27;,\n",
       "                               penalty=&#x27;l1&#x27;, random_state=0))])</pre></div></div></div><div class=\"sk-serial\"><div class=\"sk-item\"><div class=\"sk-estimator sk-toggleable\"><input class=\"sk-toggleable__control sk-hidden--visually\" id=\"sk-estimator-id-8\" type=\"checkbox\" ><label for=\"sk-estimator-id-8\" class=\"sk-toggleable__label sk-toggleable__label-arrow\">StandardScaler</label><div class=\"sk-toggleable__content\"><pre>StandardScaler()</pre></div></div></div><div class=\"sk-item\"><div class=\"sk-estimator sk-toggleable\"><input class=\"sk-toggleable__control sk-hidden--visually\" id=\"sk-estimator-id-9\" type=\"checkbox\" ><label for=\"sk-estimator-id-9\" class=\"sk-toggleable__label sk-toggleable__label-arrow\">SGDClassifier</label><div class=\"sk-toggleable__content\"><pre>SGDClassifier(alpha=0.000266818752423705, loss=&#x27;log_loss&#x27;, penalty=&#x27;l1&#x27;,\n",
       "              random_state=0)</pre></div></div></div></div></div></div></div>"
      ],
      "text/plain": [
       "Pipeline(steps=[('standardscaler', StandardScaler()),\n",
       "                ('sgdclassifier',\n",
       "                 SGDClassifier(alpha=0.000266818752423705, loss='log_loss',\n",
       "                               penalty='l1', random_state=0))])"
      ]
     },
     "execution_count": 42,
     "metadata": {},
     "output_type": "execute_result"
    }
   ],
   "source": [
    "best_model = make_pipeline(StandardScaler(), SGDClassifier(loss = 'log_loss', alpha = 0.000266818752423705, penalty =  'l1', random_state=0, max_iter=1000)) #parametro log_loss:(Log Clasiffier)\n",
    "best_model.fit(X_train, y_train)"
   ]
  },
  {
   "cell_type": "code",
   "execution_count": 43,
   "id": "ebe17447",
   "metadata": {},
   "outputs": [
    {
     "name": "stdout",
     "output_type": "stream",
     "text": [
      "Reporte de metricas para un threshold = 0.1\n",
      "\n",
      "               precision    recall  f1-score   support\n",
      "\n",
      "           0       0.95      0.46      0.62       313\n",
      "           1       0.23      0.86      0.36        58\n",
      "\n",
      "    accuracy                           0.52       371\n",
      "   macro avg       0.59      0.66      0.49       371\n",
      "weighted avg       0.83      0.52      0.58       371\n",
      "\n",
      "Reporte de metricas para un threshold = 0.2\n",
      "\n",
      "               precision    recall  f1-score   support\n",
      "\n",
      "           0       0.95      0.73      0.83       313\n",
      "           1       0.35      0.78      0.48        58\n",
      "\n",
      "    accuracy                           0.74       371\n",
      "   macro avg       0.65      0.75      0.65       371\n",
      "weighted avg       0.85      0.74      0.77       371\n",
      "\n",
      "Reporte de metricas para un threshold = 0.3\n",
      "\n",
      "               precision    recall  f1-score   support\n",
      "\n",
      "           0       0.93      0.86      0.89       313\n",
      "           1       0.46      0.64      0.54        58\n",
      "\n",
      "    accuracy                           0.83       371\n",
      "   macro avg       0.70      0.75      0.72       371\n",
      "weighted avg       0.86      0.83      0.84       371\n",
      "\n",
      "Reporte de metricas para un threshold = 0.35\n",
      "\n",
      "               precision    recall  f1-score   support\n",
      "\n",
      "           0       0.92      0.94      0.93       313\n",
      "           1       0.63      0.59      0.61        58\n",
      "\n",
      "    accuracy                           0.88       371\n",
      "   macro avg       0.78      0.76      0.77       371\n",
      "weighted avg       0.88      0.88      0.88       371\n",
      "\n",
      "Reporte de metricas para un threshold = 0.4\n",
      "\n",
      "               precision    recall  f1-score   support\n",
      "\n",
      "           0       0.90      0.96      0.93       313\n",
      "           1       0.67      0.45      0.54        58\n",
      "\n",
      "    accuracy                           0.88       371\n",
      "   macro avg       0.79      0.70      0.73       371\n",
      "weighted avg       0.87      0.88      0.87       371\n",
      "\n",
      "Reporte de metricas para un threshold = 0.45\n",
      "\n",
      "               precision    recall  f1-score   support\n",
      "\n",
      "           0       0.90      0.97      0.93       313\n",
      "           1       0.70      0.40      0.51        58\n",
      "\n",
      "    accuracy                           0.88       371\n",
      "   macro avg       0.80      0.68      0.72       371\n",
      "weighted avg       0.87      0.88      0.86       371\n",
      "\n",
      "Reporte de metricas para un threshold = 0.5\n",
      "\n",
      "               precision    recall  f1-score   support\n",
      "\n",
      "           0       0.89      0.98      0.93       313\n",
      "           1       0.74      0.34      0.47        58\n",
      "\n",
      "    accuracy                           0.88       371\n",
      "   macro avg       0.82      0.66      0.70       371\n",
      "weighted avg       0.87      0.88      0.86       371\n",
      "\n",
      "Reporte de metricas para un threshold = 0.6\n",
      "\n",
      "               precision    recall  f1-score   support\n",
      "\n",
      "           0       0.88      0.99      0.93       313\n",
      "           1       0.81      0.29      0.43        58\n",
      "\n",
      "    accuracy                           0.88       371\n",
      "   macro avg       0.85      0.64      0.68       371\n",
      "weighted avg       0.87      0.88      0.85       371\n",
      "\n",
      "Reporte de metricas para un threshold = 0.65\n",
      "\n",
      "               precision    recall  f1-score   support\n",
      "\n",
      "           0       0.88      0.99      0.93       313\n",
      "           1       0.82      0.24      0.37        58\n",
      "\n",
      "    accuracy                           0.87       371\n",
      "   macro avg       0.85      0.62      0.65       371\n",
      "weighted avg       0.87      0.87      0.84       371\n",
      "\n",
      "Reporte de metricas para un threshold = 0.8\n",
      "\n",
      "               precision    recall  f1-score   support\n",
      "\n",
      "           0       0.87      1.00      0.93       313\n",
      "           1       1.00      0.19      0.32        58\n",
      "\n",
      "    accuracy                           0.87       371\n",
      "   macro avg       0.93      0.59      0.62       371\n",
      "weighted avg       0.89      0.87      0.83       371\n",
      "\n",
      "Reporte de metricas para un threshold = 0.9\n",
      "\n",
      "               precision    recall  f1-score   support\n",
      "\n",
      "           0       0.86      1.00      0.93       313\n",
      "           1       1.00      0.14      0.24        58\n",
      "\n",
      "    accuracy                           0.87       371\n",
      "   macro avg       0.93      0.57      0.58       371\n",
      "weighted avg       0.88      0.87      0.82       371\n",
      "\n"
     ]
    }
   ],
   "source": [
    "for t in thresholds:\n",
    "    y_predict = best_model.predict_proba(X_test)[:,1]\n",
    "    prediction = np.where(y_predict>t, 1, 0)\n",
    "    print(\"Reporte de metricas para un threshold = \" + str(t) + \"\\n\\n\", classification_report(y_test, prediction))"
   ]
  },
  {
   "cell_type": "code",
   "execution_count": 44,
   "id": "d107e7ff",
   "metadata": {
    "scrolled": true
   },
   "outputs": [
    {
     "data": {
      "text/plain": [
       "array([0, 0, 0, 1, 0, 0, 0, 0, 0, 0, 0, 0, 0, 0, 0, 0, 0, 0, 0, 0, 0, 0,\n",
       "       0, 0, 0, 0, 0, 0, 0, 0, 0, 0, 1, 0, 0, 0, 0, 0, 0, 0, 0, 0, 0, 1,\n",
       "       0, 0, 0, 0, 0, 0, 0, 1, 0, 0, 0, 0, 0, 0, 0, 0, 0, 0, 0, 0, 0, 0,\n",
       "       0, 0, 0, 0, 0, 0, 0, 0, 0, 0, 1, 1, 0, 0, 0, 0, 1, 0, 0, 0, 0, 0,\n",
       "       0, 0, 0, 0, 1, 0, 0, 0, 0, 0, 0, 0, 0, 0, 0, 0, 0, 0, 0, 0, 0, 0,\n",
       "       0, 0, 0, 0, 0, 0, 0, 1, 0, 0, 0, 0, 0, 0, 0, 0, 0, 0, 0, 0, 0, 0,\n",
       "       0, 0, 0, 0, 0, 0, 0, 0, 0, 0, 0, 0, 0, 0, 0, 0, 0, 0, 0, 0, 0, 0,\n",
       "       0, 0, 0, 0, 0, 0, 0, 0, 0, 0, 0, 1, 0, 1, 0, 0, 0, 0, 0, 0, 0, 0,\n",
       "       0, 0, 0, 0, 0, 0, 0, 0, 0, 0, 0, 0, 0, 0, 0, 0, 0, 0, 0, 0, 0, 0,\n",
       "       0, 0, 1, 0, 0, 0, 0, 0, 0, 0, 0, 1, 0, 0, 0, 0, 0, 1, 0, 0, 0, 0,\n",
       "       0, 0, 0, 0, 1, 1, 0, 0, 0, 0, 0, 0, 0, 0, 0, 0, 0, 0, 0, 0, 0, 0,\n",
       "       0, 1, 0, 0, 0, 0, 0, 1, 1, 0, 0, 0, 0, 0, 0, 1, 0, 0, 0, 0, 0, 0,\n",
       "       0, 0, 0, 0, 0, 0, 0, 0, 0, 1, 0, 0, 0, 1, 0, 0, 0, 0, 0, 0, 0, 0,\n",
       "       1, 0, 0, 0, 0, 0, 0, 0, 0, 0, 0, 0, 0, 0, 0, 0, 0, 0, 0, 0, 0, 0,\n",
       "       0, 1, 0, 0, 0, 0, 0, 0, 0, 0, 0, 0, 0, 0, 0, 0, 0, 0, 0, 0, 0, 0,\n",
       "       0, 0, 0, 1, 0, 0, 1, 0, 0, 0, 0, 0, 0, 0, 0, 0, 0, 0, 0, 0, 1, 0,\n",
       "       0, 0, 0, 0, 0, 0, 0, 0, 0, 0, 0, 0, 0, 0, 0, 0, 0, 0, 0],\n",
       "      dtype=int64)"
      ]
     },
     "execution_count": 44,
     "metadata": {},
     "output_type": "execute_result"
    }
   ],
   "source": [
    "y_predicted = best_model.predict(X_test)\n",
    "y_predicted"
   ]
  },
  {
   "cell_type": "code",
   "execution_count": 45,
   "id": "bd34eda4",
   "metadata": {},
   "outputs": [
    {
     "name": "stdout",
     "output_type": "stream",
     "text": [
      "Matriz de confusion para un threshold = 0.1\n",
      "\n",
      " [[143 170]\n",
      " [  8  50]]\n",
      "Cantidad de True Positives: 50\n",
      "Cantidad de True Negatives: 143\n",
      "Cantidad de False Positives: 170\n",
      "Cantidad de False Negatives: 8\n",
      "\n",
      "\n",
      "Matriz de confusion para un threshold = 0.2\n",
      "\n",
      " [[229  84]\n",
      " [ 13  45]]\n",
      "Cantidad de True Positives: 45\n",
      "Cantidad de True Negatives: 229\n",
      "Cantidad de False Positives: 84\n",
      "Cantidad de False Negatives: 13\n",
      "\n",
      "\n",
      "Matriz de confusion para un threshold = 0.3\n",
      "\n",
      " [[270  43]\n",
      " [ 21  37]]\n",
      "Cantidad de True Positives: 37\n",
      "Cantidad de True Negatives: 270\n",
      "Cantidad de False Positives: 43\n",
      "Cantidad de False Negatives: 21\n",
      "\n",
      "\n",
      "Matriz de confusion para un threshold = 0.35\n",
      "\n",
      " [[293  20]\n",
      " [ 24  34]]\n",
      "Cantidad de True Positives: 34\n",
      "Cantidad de True Negatives: 293\n",
      "Cantidad de False Positives: 20\n",
      "Cantidad de False Negatives: 24\n",
      "\n",
      "\n",
      "Matriz de confusion para un threshold = 0.4\n",
      "\n",
      " [[300  13]\n",
      " [ 32  26]]\n",
      "Cantidad de True Positives: 26\n",
      "Cantidad de True Negatives: 300\n",
      "Cantidad de False Positives: 13\n",
      "Cantidad de False Negatives: 32\n",
      "\n",
      "\n",
      "Matriz de confusion para un threshold = 0.45\n",
      "\n",
      " [[303  10]\n",
      " [ 35  23]]\n",
      "Cantidad de True Positives: 23\n",
      "Cantidad de True Negatives: 303\n",
      "Cantidad de False Positives: 10\n",
      "Cantidad de False Negatives: 35\n",
      "\n",
      "\n",
      "Matriz de confusion para un threshold = 0.5\n",
      "\n",
      " [[306   7]\n",
      " [ 38  20]]\n",
      "Cantidad de True Positives: 20\n",
      "Cantidad de True Negatives: 306\n",
      "Cantidad de False Positives: 7\n",
      "Cantidad de False Negatives: 38\n",
      "\n",
      "\n",
      "Matriz de confusion para un threshold = 0.6\n",
      "\n",
      " [[309   4]\n",
      " [ 41  17]]\n",
      "Cantidad de True Positives: 17\n",
      "Cantidad de True Negatives: 309\n",
      "Cantidad de False Positives: 4\n",
      "Cantidad de False Negatives: 41\n",
      "\n",
      "\n",
      "Matriz de confusion para un threshold = 0.65\n",
      "\n",
      " [[310   3]\n",
      " [ 44  14]]\n",
      "Cantidad de True Positives: 14\n",
      "Cantidad de True Negatives: 310\n",
      "Cantidad de False Positives: 3\n",
      "Cantidad de False Negatives: 44\n",
      "\n",
      "\n",
      "Matriz de confusion para un threshold = 0.8\n",
      "\n",
      " [[313   0]\n",
      " [ 47  11]]\n",
      "Cantidad de True Positives: 11\n",
      "Cantidad de True Negatives: 313\n",
      "Cantidad de False Positives: 0\n",
      "Cantidad de False Negatives: 47\n",
      "\n",
      "\n",
      "Matriz de confusion para un threshold = 0.9\n",
      "\n",
      " [[313   0]\n",
      " [ 50   8]]\n",
      "Cantidad de True Positives: 8\n",
      "Cantidad de True Negatives: 313\n",
      "Cantidad de False Positives: 0\n",
      "Cantidad de False Negatives: 50\n",
      "\n",
      "\n"
     ]
    }
   ],
   "source": [
    "for t in thresholds:\n",
    "    y_predict = best_model.predict_proba(X_test)[:,1]\n",
    "    prediction = np.where(y_predict>t, 1, 0)\n",
    "    confMatrix = confusion_matrix(y_test, prediction, labels = [0,1])\n",
    "    tn, fp, fn, tp = confMatrix.ravel()\n",
    "    print(\"Matriz de confusion para un threshold = \" + str(t) + \"\\n\\n\", confMatrix)\n",
    "    print(\"Cantidad de True Positives: {}\".format(tp))\n",
    "    print(\"Cantidad de True Negatives: {}\".format(tn))\n",
    "    print(\"Cantidad de False Positives: {}\".format(fp))\n",
    "    print(\"Cantidad de False Negatives: {}\".format(fn) + \"\\n\\n\") "
   ]
  },
  {
   "cell_type": "markdown",
   "id": "b11214b9",
   "metadata": {},
   "source": [
    "### Ejercicio 3.1: DecisionTreeClassifier con hiperparámetros por defecto\n",
    "Entrenar y evaluar el clasificador DecisionTreeClassifier usando los valores por omisión de scikit-learn para todos los parámetros. Únicamente fijar la semilla aleatoria para hacer repetible el experimento.\n",
    "\n",
    "Evaluar sobre el conjunto de entrenamiento y sobre el conjunto de evaluación, reportando:\n",
    "\n",
    "* Accuracy\n",
    "* Precision\n",
    "* Recall\n",
    "* F1\n",
    "* matriz de confusión"
   ]
  },
  {
   "cell_type": "code",
   "execution_count": 46,
   "id": "147083e0",
   "metadata": {},
   "outputs": [],
   "source": [
    "from sklearn.tree import DecisionTreeClassifier"
   ]
  },
  {
   "cell_type": "code",
   "execution_count": 49,
   "id": "a287aace",
   "metadata": {},
   "outputs": [
    {
     "data": {
      "text/html": [
       "<style>#sk-container-id-4 {color: black;background-color: white;}#sk-container-id-4 pre{padding: 0;}#sk-container-id-4 div.sk-toggleable {background-color: white;}#sk-container-id-4 label.sk-toggleable__label {cursor: pointer;display: block;width: 100%;margin-bottom: 0;padding: 0.3em;box-sizing: border-box;text-align: center;}#sk-container-id-4 label.sk-toggleable__label-arrow:before {content: \"▸\";float: left;margin-right: 0.25em;color: #696969;}#sk-container-id-4 label.sk-toggleable__label-arrow:hover:before {color: black;}#sk-container-id-4 div.sk-estimator:hover label.sk-toggleable__label-arrow:before {color: black;}#sk-container-id-4 div.sk-toggleable__content {max-height: 0;max-width: 0;overflow: hidden;text-align: left;background-color: #f0f8ff;}#sk-container-id-4 div.sk-toggleable__content pre {margin: 0.2em;color: black;border-radius: 0.25em;background-color: #f0f8ff;}#sk-container-id-4 input.sk-toggleable__control:checked~div.sk-toggleable__content {max-height: 200px;max-width: 100%;overflow: auto;}#sk-container-id-4 input.sk-toggleable__control:checked~label.sk-toggleable__label-arrow:before {content: \"▾\";}#sk-container-id-4 div.sk-estimator input.sk-toggleable__control:checked~label.sk-toggleable__label {background-color: #d4ebff;}#sk-container-id-4 div.sk-label input.sk-toggleable__control:checked~label.sk-toggleable__label {background-color: #d4ebff;}#sk-container-id-4 input.sk-hidden--visually {border: 0;clip: rect(1px 1px 1px 1px);clip: rect(1px, 1px, 1px, 1px);height: 1px;margin: -1px;overflow: hidden;padding: 0;position: absolute;width: 1px;}#sk-container-id-4 div.sk-estimator {font-family: monospace;background-color: #f0f8ff;border: 1px dotted black;border-radius: 0.25em;box-sizing: border-box;margin-bottom: 0.5em;}#sk-container-id-4 div.sk-estimator:hover {background-color: #d4ebff;}#sk-container-id-4 div.sk-parallel-item::after {content: \"\";width: 100%;border-bottom: 1px solid gray;flex-grow: 1;}#sk-container-id-4 div.sk-label:hover label.sk-toggleable__label {background-color: #d4ebff;}#sk-container-id-4 div.sk-serial::before {content: \"\";position: absolute;border-left: 1px solid gray;box-sizing: border-box;top: 0;bottom: 0;left: 50%;z-index: 0;}#sk-container-id-4 div.sk-serial {display: flex;flex-direction: column;align-items: center;background-color: white;padding-right: 0.2em;padding-left: 0.2em;position: relative;}#sk-container-id-4 div.sk-item {position: relative;z-index: 1;}#sk-container-id-4 div.sk-parallel {display: flex;align-items: stretch;justify-content: center;background-color: white;position: relative;}#sk-container-id-4 div.sk-item::before, #sk-container-id-4 div.sk-parallel-item::before {content: \"\";position: absolute;border-left: 1px solid gray;box-sizing: border-box;top: 0;bottom: 0;left: 50%;z-index: -1;}#sk-container-id-4 div.sk-parallel-item {display: flex;flex-direction: column;z-index: 1;position: relative;background-color: white;}#sk-container-id-4 div.sk-parallel-item:first-child::after {align-self: flex-end;width: 50%;}#sk-container-id-4 div.sk-parallel-item:last-child::after {align-self: flex-start;width: 50%;}#sk-container-id-4 div.sk-parallel-item:only-child::after {width: 0;}#sk-container-id-4 div.sk-dashed-wrapped {border: 1px dashed gray;margin: 0 0.4em 0.5em 0.4em;box-sizing: border-box;padding-bottom: 0.4em;background-color: white;}#sk-container-id-4 div.sk-label label {font-family: monospace;font-weight: bold;display: inline-block;line-height: 1.2em;}#sk-container-id-4 div.sk-label-container {text-align: center;}#sk-container-id-4 div.sk-container {/* jupyter's `normalize.less` sets `[hidden] { display: none; }` but bootstrap.min.css set `[hidden] { display: none !important; }` so we also need the `!important` here to be able to override the default hidden behavior on the sphinx rendered scikit-learn.org. See: https://github.com/scikit-learn/scikit-learn/issues/21755 */display: inline-block !important;position: relative;}#sk-container-id-4 div.sk-text-repr-fallback {display: none;}</style><div id=\"sk-container-id-4\" class=\"sk-top-container\"><div class=\"sk-text-repr-fallback\"><pre>DecisionTreeClassifier(random_state=99)</pre><b>In a Jupyter environment, please rerun this cell to show the HTML representation or trust the notebook. <br />On GitHub, the HTML representation is unable to render, please try loading this page with nbviewer.org.</b></div><div class=\"sk-container\" hidden><div class=\"sk-item\"><div class=\"sk-estimator sk-toggleable\"><input class=\"sk-toggleable__control sk-hidden--visually\" id=\"sk-estimator-id-10\" type=\"checkbox\" checked><label for=\"sk-estimator-id-10\" class=\"sk-toggleable__label sk-toggleable__label-arrow\">DecisionTreeClassifier</label><div class=\"sk-toggleable__content\"><pre>DecisionTreeClassifier(random_state=99)</pre></div></div></div></div></div>"
      ],
      "text/plain": [
       "DecisionTreeClassifier(random_state=99)"
      ]
     },
     "execution_count": 49,
     "metadata": {},
     "output_type": "execute_result"
    }
   ],
   "source": [
    "treeClf = DecisionTreeClassifier(random_state=99)\n",
    "treeClf.fit(X_train, y_train)"
   ]
  },
  {
   "cell_type": "code",
   "execution_count": 50,
   "id": "3d87c9a7",
   "metadata": {},
   "outputs": [
    {
     "data": {
      "text/plain": [
       "{'ccp_alpha': 0.0,\n",
       " 'class_weight': None,\n",
       " 'criterion': 'gini',\n",
       " 'max_depth': None,\n",
       " 'max_features': None,\n",
       " 'max_leaf_nodes': None,\n",
       " 'min_impurity_decrease': 0.0,\n",
       " 'min_samples_leaf': 1,\n",
       " 'min_samples_split': 2,\n",
       " 'min_weight_fraction_leaf': 0.0,\n",
       " 'random_state': 99,\n",
       " 'splitter': 'best'}"
      ]
     },
     "execution_count": 50,
     "metadata": {},
     "output_type": "execute_result"
    }
   ],
   "source": [
    "treeClf.get_params()"
   ]
  },
  {
   "cell_type": "code",
   "execution_count": 51,
   "id": "24468d99",
   "metadata": {},
   "outputs": [],
   "source": [
    "from sklearn.metrics import accuracy_score"
   ]
  },
  {
   "cell_type": "code",
   "execution_count": 52,
   "id": "839714fc",
   "metadata": {},
   "outputs": [],
   "source": [
    "y_train_pred = treeClf.predict(X_train)\n",
    "y_test_pred = treeClf.predict(X_test)"
   ]
  },
  {
   "cell_type": "code",
   "execution_count": 53,
   "id": "7b4e6a29",
   "metadata": {},
   "outputs": [
    {
     "name": "stdout",
     "output_type": "stream",
     "text": [
      "Accuracy Score del dataset de Entrenamiento:  1.0 \n",
      "\n",
      "Accuracy Score del dataset de Testing:  0.8733153638814016 \n",
      "\n"
     ]
    }
   ],
   "source": [
    "print(\"Accuracy Score del dataset de Entrenamiento: \", accuracy_score(y_train, y_train_pred), '\\n')\n",
    "print(\"Accuracy Score del dataset de Testing: \", accuracy_score(y_test, y_test_pred), '\\n')"
   ]
  },
  {
   "cell_type": "code",
   "execution_count": 58,
   "id": "fb436962",
   "metadata": {},
   "outputs": [],
   "source": [
    "# from sklearn.tree import plot_tree\n",
    "\n",
    "# plot_tree(treeClf,filled=True)"
   ]
  },
  {
   "cell_type": "code",
   "execution_count": 62,
   "id": "e2cda429",
   "metadata": {},
   "outputs": [],
   "source": [
    "preds = treeClf.predict(X_test)"
   ]
  },
  {
   "cell_type": "code",
   "execution_count": 63,
   "id": "ceb2ca22",
   "metadata": {},
   "outputs": [
    {
     "data": {
      "text/html": [
       "<div>\n",
       "<style scoped>\n",
       "    .dataframe tbody tr th:only-of-type {\n",
       "        vertical-align: middle;\n",
       "    }\n",
       "\n",
       "    .dataframe tbody tr th {\n",
       "        vertical-align: top;\n",
       "    }\n",
       "\n",
       "    .dataframe thead th {\n",
       "        text-align: right;\n",
       "    }\n",
       "</style>\n",
       "<table border=\"1\" class=\"dataframe\">\n",
       "  <thead>\n",
       "    <tr style=\"text-align: right;\">\n",
       "      <th>Predictions</th>\n",
       "      <th>0</th>\n",
       "      <th>1</th>\n",
       "    </tr>\n",
       "    <tr>\n",
       "      <th>Actual</th>\n",
       "      <th></th>\n",
       "      <th></th>\n",
       "    </tr>\n",
       "  </thead>\n",
       "  <tbody>\n",
       "    <tr>\n",
       "      <th>0</th>\n",
       "      <td>289</td>\n",
       "      <td>24</td>\n",
       "    </tr>\n",
       "    <tr>\n",
       "      <th>1</th>\n",
       "      <td>23</td>\n",
       "      <td>35</td>\n",
       "    </tr>\n",
       "  </tbody>\n",
       "</table>\n",
       "</div>"
      ],
      "text/plain": [
       "Predictions    0   1\n",
       "Actual              \n",
       "0            289  24\n",
       "1             23  35"
      ]
     },
     "execution_count": 63,
     "metadata": {},
     "output_type": "execute_result"
    }
   ],
   "source": [
    "pd.crosstab(y_test, preds, rownames=[\"Actual\"], colnames=[\"Predictions\"])"
   ]
  },
  {
   "cell_type": "markdown",
   "id": "cb826542",
   "metadata": {},
   "source": [
    "El modelo de arbol para clasificar el pago de la deuda de un tomador de prestamos arroja el siguiente resultado para las 371 observaciones del conjunto de testing:\n",
    "\n",
    "* Hay 289 observaciones que son bien clasificadas como 0.\n",
    "* Hay 35 observaciones que son bien clasificadas como 1.\n",
    "* Hay 24 observaciones que son 0 y el modelo la clasifica como 1.\n",
    "* Hay 23 observaciones que son 1 y el modelo la clasifica como 0.\n",
    "\n",
    "Como el accuracy score del modelo de entrenamiento es 1, se entiende que el modelo clasifica perfectamente las observaciones del conjunto de entrenamiento. Por lo que probablemente estemos ante un problema de overfiting."
   ]
  },
  {
   "cell_type": "markdown",
   "id": "284494fd",
   "metadata": {},
   "source": [
    "### Ejercicio 3.2: Ajuste de Hiperparámetros\n",
    "Seleccionar valores para los hiperparámetros principales del DecisionTreeClassifier. Como mínimo, probar diferentes criterios de partición (criterion), profundidad máxima del árbol (max_depth), y cantidad mínima de samples por hoja (min_samples_leaf).\n",
    "\n",
    "Para ello, usar grid-search y 5-fold cross-validation sobre el conjunto de entrenamiento para explorar muchas combinaciones posibles de valores.\n",
    "\n",
    "Reportar accuracy promedio y varianza para todas las configuraciones.\n",
    "\n",
    "Para la mejor configuración encontrada, evaluar sobre el conjunto de entrenamiento y sobre el conjunto de evaluación, reportando:\n",
    "\n",
    "* Accuracy\n",
    "* Precision\n",
    "* Recall\n",
    "* F1\n",
    "* matriz de confusión"
   ]
  },
  {
   "cell_type": "code",
   "execution_count": 66,
   "id": "7e8a16b4",
   "metadata": {},
   "outputs": [],
   "source": [
    "treeClf2 = DecisionTreeClassifier()"
   ]
  },
  {
   "cell_type": "code",
   "execution_count": 67,
   "id": "2ed73b44",
   "metadata": {},
   "outputs": [],
   "source": [
    "from sklearn.model_selection import GridSearchCV"
   ]
  },
  {
   "cell_type": "code",
   "execution_count": 82,
   "id": "ee5875ae",
   "metadata": {},
   "outputs": [],
   "source": [
    "param_dict = {'criterion': ['gini', 'entropy', 'log_loss'],\n",
    "             'max_depth': [1, 2, 3,4,5,6,7,8,10,15,20],\n",
    "              'min_samples_split': [1,2,4,6,8,10,15,20,30,40,50],\n",
    "              'min_samples_leaf': [1,2,4,6,8,10,15,20,30,40,50],\n",
    "             'random_state': [1]}"
   ]
  },
  {
   "cell_type": "code",
   "execution_count": 83,
   "id": "d2e3183f",
   "metadata": {},
   "outputs": [
    {
     "name": "stderr",
     "output_type": "stream",
     "text": [
      "C:\\Users\\Lenovo\\.conda\\envs\\Python 2021\\lib\\site-packages\\sklearn\\model_selection\\_validation.py:378: FitFailedWarning: \n",
      "1815 fits failed out of a total of 19965.\n",
      "The score on these train-test partitions for these parameters will be set to nan.\n",
      "If these failures are not expected, you can try to debug them by setting error_score='raise'.\n",
      "\n",
      "Below are more details about the failures:\n",
      "--------------------------------------------------------------------------------\n",
      "1815 fits failed with the following error:\n",
      "Traceback (most recent call last):\n",
      "  File \"C:\\Users\\Lenovo\\.conda\\envs\\Python 2021\\lib\\site-packages\\sklearn\\model_selection\\_validation.py\", line 686, in _fit_and_score\n",
      "    estimator.fit(X_train, y_train, **fit_params)\n",
      "  File \"C:\\Users\\Lenovo\\.conda\\envs\\Python 2021\\lib\\site-packages\\sklearn\\tree\\_classes.py\", line 969, in fit\n",
      "    super().fit(\n",
      "  File \"C:\\Users\\Lenovo\\.conda\\envs\\Python 2021\\lib\\site-packages\\sklearn\\tree\\_classes.py\", line 265, in fit\n",
      "    check_scalar(\n",
      "  File \"C:\\Users\\Lenovo\\.conda\\envs\\Python 2021\\lib\\site-packages\\sklearn\\utils\\validation.py\", line 1480, in check_scalar\n",
      "    raise ValueError(\n",
      "ValueError: min_samples_split == 1, must be >= 2.\n",
      "\n",
      "  warnings.warn(some_fits_failed_message, FitFailedWarning)\n",
      "C:\\Users\\Lenovo\\.conda\\envs\\Python 2021\\lib\\site-packages\\sklearn\\model_selection\\_search.py:953: UserWarning: One or more of the test scores are non-finite: [       nan 0.86919419 0.86919419 ... 0.86785194 0.86785194 0.86785194]\n",
      "  warnings.warn(\n"
     ]
    },
    {
     "data": {
      "text/html": [
       "<style>#sk-container-id-5 {color: black;background-color: white;}#sk-container-id-5 pre{padding: 0;}#sk-container-id-5 div.sk-toggleable {background-color: white;}#sk-container-id-5 label.sk-toggleable__label {cursor: pointer;display: block;width: 100%;margin-bottom: 0;padding: 0.3em;box-sizing: border-box;text-align: center;}#sk-container-id-5 label.sk-toggleable__label-arrow:before {content: \"▸\";float: left;margin-right: 0.25em;color: #696969;}#sk-container-id-5 label.sk-toggleable__label-arrow:hover:before {color: black;}#sk-container-id-5 div.sk-estimator:hover label.sk-toggleable__label-arrow:before {color: black;}#sk-container-id-5 div.sk-toggleable__content {max-height: 0;max-width: 0;overflow: hidden;text-align: left;background-color: #f0f8ff;}#sk-container-id-5 div.sk-toggleable__content pre {margin: 0.2em;color: black;border-radius: 0.25em;background-color: #f0f8ff;}#sk-container-id-5 input.sk-toggleable__control:checked~div.sk-toggleable__content {max-height: 200px;max-width: 100%;overflow: auto;}#sk-container-id-5 input.sk-toggleable__control:checked~label.sk-toggleable__label-arrow:before {content: \"▾\";}#sk-container-id-5 div.sk-estimator input.sk-toggleable__control:checked~label.sk-toggleable__label {background-color: #d4ebff;}#sk-container-id-5 div.sk-label input.sk-toggleable__control:checked~label.sk-toggleable__label {background-color: #d4ebff;}#sk-container-id-5 input.sk-hidden--visually {border: 0;clip: rect(1px 1px 1px 1px);clip: rect(1px, 1px, 1px, 1px);height: 1px;margin: -1px;overflow: hidden;padding: 0;position: absolute;width: 1px;}#sk-container-id-5 div.sk-estimator {font-family: monospace;background-color: #f0f8ff;border: 1px dotted black;border-radius: 0.25em;box-sizing: border-box;margin-bottom: 0.5em;}#sk-container-id-5 div.sk-estimator:hover {background-color: #d4ebff;}#sk-container-id-5 div.sk-parallel-item::after {content: \"\";width: 100%;border-bottom: 1px solid gray;flex-grow: 1;}#sk-container-id-5 div.sk-label:hover label.sk-toggleable__label {background-color: #d4ebff;}#sk-container-id-5 div.sk-serial::before {content: \"\";position: absolute;border-left: 1px solid gray;box-sizing: border-box;top: 0;bottom: 0;left: 50%;z-index: 0;}#sk-container-id-5 div.sk-serial {display: flex;flex-direction: column;align-items: center;background-color: white;padding-right: 0.2em;padding-left: 0.2em;position: relative;}#sk-container-id-5 div.sk-item {position: relative;z-index: 1;}#sk-container-id-5 div.sk-parallel {display: flex;align-items: stretch;justify-content: center;background-color: white;position: relative;}#sk-container-id-5 div.sk-item::before, #sk-container-id-5 div.sk-parallel-item::before {content: \"\";position: absolute;border-left: 1px solid gray;box-sizing: border-box;top: 0;bottom: 0;left: 50%;z-index: -1;}#sk-container-id-5 div.sk-parallel-item {display: flex;flex-direction: column;z-index: 1;position: relative;background-color: white;}#sk-container-id-5 div.sk-parallel-item:first-child::after {align-self: flex-end;width: 50%;}#sk-container-id-5 div.sk-parallel-item:last-child::after {align-self: flex-start;width: 50%;}#sk-container-id-5 div.sk-parallel-item:only-child::after {width: 0;}#sk-container-id-5 div.sk-dashed-wrapped {border: 1px dashed gray;margin: 0 0.4em 0.5em 0.4em;box-sizing: border-box;padding-bottom: 0.4em;background-color: white;}#sk-container-id-5 div.sk-label label {font-family: monospace;font-weight: bold;display: inline-block;line-height: 1.2em;}#sk-container-id-5 div.sk-label-container {text-align: center;}#sk-container-id-5 div.sk-container {/* jupyter's `normalize.less` sets `[hidden] { display: none; }` but bootstrap.min.css set `[hidden] { display: none !important; }` so we also need the `!important` here to be able to override the default hidden behavior on the sphinx rendered scikit-learn.org. See: https://github.com/scikit-learn/scikit-learn/issues/21755 */display: inline-block !important;position: relative;}#sk-container-id-5 div.sk-text-repr-fallback {display: none;}</style><div id=\"sk-container-id-5\" class=\"sk-top-container\"><div class=\"sk-text-repr-fallback\"><pre>GridSearchCV(cv=5, estimator=DecisionTreeClassifier(),\n",
       "             param_grid={&#x27;criterion&#x27;: [&#x27;gini&#x27;, &#x27;entropy&#x27;, &#x27;log_loss&#x27;],\n",
       "                         &#x27;max_depth&#x27;: [1, 2, 3, 4, 5, 6, 7, 8, 10, 15, 20],\n",
       "                         &#x27;min_samples_leaf&#x27;: [1, 2, 4, 6, 8, 10, 15, 20, 30, 40,\n",
       "                                              50],\n",
       "                         &#x27;min_samples_split&#x27;: [1, 2, 4, 6, 8, 10, 15, 20, 30,\n",
       "                                               40, 50],\n",
       "                         &#x27;random_state&#x27;: [1]})</pre><b>In a Jupyter environment, please rerun this cell to show the HTML representation or trust the notebook. <br />On GitHub, the HTML representation is unable to render, please try loading this page with nbviewer.org.</b></div><div class=\"sk-container\" hidden><div class=\"sk-item sk-dashed-wrapped\"><div class=\"sk-label-container\"><div class=\"sk-label sk-toggleable\"><input class=\"sk-toggleable__control sk-hidden--visually\" id=\"sk-estimator-id-11\" type=\"checkbox\" ><label for=\"sk-estimator-id-11\" class=\"sk-toggleable__label sk-toggleable__label-arrow\">GridSearchCV</label><div class=\"sk-toggleable__content\"><pre>GridSearchCV(cv=5, estimator=DecisionTreeClassifier(),\n",
       "             param_grid={&#x27;criterion&#x27;: [&#x27;gini&#x27;, &#x27;entropy&#x27;, &#x27;log_loss&#x27;],\n",
       "                         &#x27;max_depth&#x27;: [1, 2, 3, 4, 5, 6, 7, 8, 10, 15, 20],\n",
       "                         &#x27;min_samples_leaf&#x27;: [1, 2, 4, 6, 8, 10, 15, 20, 30, 40,\n",
       "                                              50],\n",
       "                         &#x27;min_samples_split&#x27;: [1, 2, 4, 6, 8, 10, 15, 20, 30,\n",
       "                                               40, 50],\n",
       "                         &#x27;random_state&#x27;: [1]})</pre></div></div></div><div class=\"sk-parallel\"><div class=\"sk-parallel-item\"><div class=\"sk-item\"><div class=\"sk-label-container\"><div class=\"sk-label sk-toggleable\"><input class=\"sk-toggleable__control sk-hidden--visually\" id=\"sk-estimator-id-12\" type=\"checkbox\" ><label for=\"sk-estimator-id-12\" class=\"sk-toggleable__label sk-toggleable__label-arrow\">estimator: DecisionTreeClassifier</label><div class=\"sk-toggleable__content\"><pre>DecisionTreeClassifier()</pre></div></div></div><div class=\"sk-serial\"><div class=\"sk-item\"><div class=\"sk-estimator sk-toggleable\"><input class=\"sk-toggleable__control sk-hidden--visually\" id=\"sk-estimator-id-13\" type=\"checkbox\" ><label for=\"sk-estimator-id-13\" class=\"sk-toggleable__label sk-toggleable__label-arrow\">DecisionTreeClassifier</label><div class=\"sk-toggleable__content\"><pre>DecisionTreeClassifier()</pre></div></div></div></div></div></div></div></div></div></div>"
      ],
      "text/plain": [
       "GridSearchCV(cv=5, estimator=DecisionTreeClassifier(),\n",
       "             param_grid={'criterion': ['gini', 'entropy', 'log_loss'],\n",
       "                         'max_depth': [1, 2, 3, 4, 5, 6, 7, 8, 10, 15, 20],\n",
       "                         'min_samples_leaf': [1, 2, 4, 6, 8, 10, 15, 20, 30, 40,\n",
       "                                              50],\n",
       "                         'min_samples_split': [1, 2, 4, 6, 8, 10, 15, 20, 30,\n",
       "                                               40, 50],\n",
       "                         'random_state': [1]})"
      ]
     },
     "execution_count": 83,
     "metadata": {},
     "output_type": "execute_result"
    }
   ],
   "source": [
    "cv = GridSearchCV(treeClf2, param_dict, cv = 5)\n",
    "cv.fit(X_train, y_train)\n"
   ]
  },
  {
   "cell_type": "code",
   "execution_count": 89,
   "id": "5e5002e0",
   "metadata": {},
   "outputs": [],
   "source": [
    "resultados = pd.DataFrame(cv.cv_results_)\n",
    "resultados.to_excel(r'C:\\Users\\franc\\OneDrive\\Escritorio\\FG\\Diplomatura ciencia de datos\\Intro machine Learning\\Archivos LAB 2\\Grid Search CV para arboles de decision.xlsx', index=False)"
   ]
  },
  {
   "attachments": {
    "image.png": {
     "image/png": "[encoded data removed]"
    }
   },
   "cell_type": "markdown",
   "id": "75abc33c",
   "metadata": {},
   "source": [
    "## Mejores resultados con Grid Search CV:\n",
    "\n",
    "![image.png](attachment:image.png)"
   ]
  },
  {
   "cell_type": "code",
   "execution_count": 92,
   "id": "42e0441a",
   "metadata": {},
   "outputs": [
    {
     "data": {
      "text/html": [
       "<style>#sk-container-id-7 {color: black;background-color: white;}#sk-container-id-7 pre{padding: 0;}#sk-container-id-7 div.sk-toggleable {background-color: white;}#sk-container-id-7 label.sk-toggleable__label {cursor: pointer;display: block;width: 100%;margin-bottom: 0;padding: 0.3em;box-sizing: border-box;text-align: center;}#sk-container-id-7 label.sk-toggleable__label-arrow:before {content: \"▸\";float: left;margin-right: 0.25em;color: #696969;}#sk-container-id-7 label.sk-toggleable__label-arrow:hover:before {color: black;}#sk-container-id-7 div.sk-estimator:hover label.sk-toggleable__label-arrow:before {color: black;}#sk-container-id-7 div.sk-toggleable__content {max-height: 0;max-width: 0;overflow: hidden;text-align: left;background-color: #f0f8ff;}#sk-container-id-7 div.sk-toggleable__content pre {margin: 0.2em;color: black;border-radius: 0.25em;background-color: #f0f8ff;}#sk-container-id-7 input.sk-toggleable__control:checked~div.sk-toggleable__content {max-height: 200px;max-width: 100%;overflow: auto;}#sk-container-id-7 input.sk-toggleable__control:checked~label.sk-toggleable__label-arrow:before {content: \"▾\";}#sk-container-id-7 div.sk-estimator input.sk-toggleable__control:checked~label.sk-toggleable__label {background-color: #d4ebff;}#sk-container-id-7 div.sk-label input.sk-toggleable__control:checked~label.sk-toggleable__label {background-color: #d4ebff;}#sk-container-id-7 input.sk-hidden--visually {border: 0;clip: rect(1px 1px 1px 1px);clip: rect(1px, 1px, 1px, 1px);height: 1px;margin: -1px;overflow: hidden;padding: 0;position: absolute;width: 1px;}#sk-container-id-7 div.sk-estimator {font-family: monospace;background-color: #f0f8ff;border: 1px dotted black;border-radius: 0.25em;box-sizing: border-box;margin-bottom: 0.5em;}#sk-container-id-7 div.sk-estimator:hover {background-color: #d4ebff;}#sk-container-id-7 div.sk-parallel-item::after {content: \"\";width: 100%;border-bottom: 1px solid gray;flex-grow: 1;}#sk-container-id-7 div.sk-label:hover label.sk-toggleable__label {background-color: #d4ebff;}#sk-container-id-7 div.sk-serial::before {content: \"\";position: absolute;border-left: 1px solid gray;box-sizing: border-box;top: 0;bottom: 0;left: 50%;z-index: 0;}#sk-container-id-7 div.sk-serial {display: flex;flex-direction: column;align-items: center;background-color: white;padding-right: 0.2em;padding-left: 0.2em;position: relative;}#sk-container-id-7 div.sk-item {position: relative;z-index: 1;}#sk-container-id-7 div.sk-parallel {display: flex;align-items: stretch;justify-content: center;background-color: white;position: relative;}#sk-container-id-7 div.sk-item::before, #sk-container-id-7 div.sk-parallel-item::before {content: \"\";position: absolute;border-left: 1px solid gray;box-sizing: border-box;top: 0;bottom: 0;left: 50%;z-index: -1;}#sk-container-id-7 div.sk-parallel-item {display: flex;flex-direction: column;z-index: 1;position: relative;background-color: white;}#sk-container-id-7 div.sk-parallel-item:first-child::after {align-self: flex-end;width: 50%;}#sk-container-id-7 div.sk-parallel-item:last-child::after {align-self: flex-start;width: 50%;}#sk-container-id-7 div.sk-parallel-item:only-child::after {width: 0;}#sk-container-id-7 div.sk-dashed-wrapped {border: 1px dashed gray;margin: 0 0.4em 0.5em 0.4em;box-sizing: border-box;padding-bottom: 0.4em;background-color: white;}#sk-container-id-7 div.sk-label label {font-family: monospace;font-weight: bold;display: inline-block;line-height: 1.2em;}#sk-container-id-7 div.sk-label-container {text-align: center;}#sk-container-id-7 div.sk-container {/* jupyter's `normalize.less` sets `[hidden] { display: none; }` but bootstrap.min.css set `[hidden] { display: none !important; }` so we also need the `!important` here to be able to override the default hidden behavior on the sphinx rendered scikit-learn.org. See: https://github.com/scikit-learn/scikit-learn/issues/21755 */display: inline-block !important;position: relative;}#sk-container-id-7 div.sk-text-repr-fallback {display: none;}</style><div id=\"sk-container-id-7\" class=\"sk-top-container\"><div class=\"sk-text-repr-fallback\"><pre>DecisionTreeClassifier(max_depth=7, min_samples_leaf=10)</pre><b>In a Jupyter environment, please rerun this cell to show the HTML representation or trust the notebook. <br />On GitHub, the HTML representation is unable to render, please try loading this page with nbviewer.org.</b></div><div class=\"sk-container\" hidden><div class=\"sk-item\"><div class=\"sk-estimator sk-toggleable\"><input class=\"sk-toggleable__control sk-hidden--visually\" id=\"sk-estimator-id-15\" type=\"checkbox\" checked><label for=\"sk-estimator-id-15\" class=\"sk-toggleable__label sk-toggleable__label-arrow\">DecisionTreeClassifier</label><div class=\"sk-toggleable__content\"><pre>DecisionTreeClassifier(max_depth=7, min_samples_leaf=10)</pre></div></div></div></div></div>"
      ],
      "text/plain": [
       "DecisionTreeClassifier(max_depth=7, min_samples_leaf=10)"
      ]
     },
     "execution_count": 92,
     "metadata": {},
     "output_type": "execute_result"
    }
   ],
   "source": [
    "treeClf2 = DecisionTreeClassifier(max_depth= 7, min_samples_leaf= 10, min_samples_split= 2)\n",
    "treeClf2.fit(X_train, y_train)"
   ]
  },
  {
   "cell_type": "code",
   "execution_count": 93,
   "id": "0ec17c4b",
   "metadata": {},
   "outputs": [],
   "source": [
    "y_train_pred = treeClf2.predict(X_train)\n",
    "y_test_pred = treeClf2.predict(X_test)\n"
   ]
  },
  {
   "cell_type": "code",
   "execution_count": 94,
   "id": "f04fdb54",
   "metadata": {
    "scrolled": true
   },
   "outputs": [
    {
     "name": "stdout",
     "output_type": "stream",
     "text": [
      "Accuracy Score del dataset de Entrenamiento:  0.8975050573162509 \n",
      "\n",
      "Accuracy Score del dataset de Testing:  0.8921832884097035 \n",
      "\n"
     ]
    }
   ],
   "source": [
    "print(\"Accuracy Score del dataset de Entrenamiento: \", accuracy_score(y_train, y_train_pred), '\\n')\n",
    "print(\"Accuracy Score del dataset de Testing: \", accuracy_score(y_test, y_test_pred), '\\n')"
   ]
  },
  {
   "cell_type": "markdown",
   "id": "46e71b9f",
   "metadata": {},
   "source": [
    "El accuracy score del modelo anterior (hyper parametros por defecto) fue de 0.8733153638814016. El nuevo score, con los mejores hyperparametros encontrados con grid search fue de 0.8921832884097035, por lo que se observa un aumento del mismo en una pequeña proporcion."
   ]
  },
  {
   "cell_type": "code",
   "execution_count": 97,
   "id": "4f453298",
   "metadata": {
    "scrolled": true
   },
   "outputs": [
    {
     "name": "stdout",
     "output_type": "stream",
     "text": [
      "Matriz de confusion \n",
      " [[307   6]\n",
      " [ 34  24]]\n",
      "Cantidad de True Positives: 24\n",
      "Cantidad de True Negatives: 307\n",
      "Cantidad de False Positives: 6\n",
      "Cantidad de False Negatives: 34\n",
      "\n",
      "\n"
     ]
    }
   ],
   "source": [
    "confMatrix = confusion_matrix(y_test, y_test_pred, labels = [0,1])\n",
    "tn, fp, fn, tp = confMatrix.ravel()\n",
    "print(\"Matriz de confusion: \\n\", confMatrix)\n",
    "print(\"Cantidad de True Positives: {}\".format(tp))\n",
    "print(\"Cantidad de True Negatives: {}\".format(tn))\n",
    "print(\"Cantidad de False Positives: {}\".format(fp))\n",
    "print(\"Cantidad de False Negatives: {}\".format(fn) + \"\\n\\n\") "
   ]
  },
  {
   "cell_type": "code",
   "execution_count": 98,
   "id": "8b03eb0f",
   "metadata": {},
   "outputs": [
    {
     "name": "stdout",
     "output_type": "stream",
     "text": [
      "Reporte de metricas \n",
      "\n",
      "               precision    recall  f1-score   support\n",
      "\n",
      "           0       0.90      0.98      0.94       313\n",
      "           1       0.80      0.41      0.55        58\n",
      "\n",
      "    accuracy                           0.89       371\n",
      "   macro avg       0.85      0.70      0.74       371\n",
      "weighted avg       0.88      0.89      0.88       371\n",
      "\n"
     ]
    }
   ],
   "source": [
    "print(\"Reporte de metricas \" + \"\\n\\n\", classification_report(y_test, y_test_pred))"
   ]
  }
 ],
 "metadata": {
  "kernelspec": {
   "display_name": "Python 3",
   "language": "python",
   "name": "python3"
  },
  "language_info": {
   "codemirror_mode": {
    "name": "ipython",
    "version": 3
   },
   "file_extension": ".py",
   "mimetype": "text/x-python",
   "name": "python",
   "nbconvert_exporter": "python",
   "pygments_lexer": "ipython3",
   "version": "3.8.8"
  }
 },
 "nbformat": 4,
 "nbformat_minor": 5
}
