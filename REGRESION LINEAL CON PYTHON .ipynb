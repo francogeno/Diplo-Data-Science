{
 "cells": [
  {
   "cell_type": "code",
   "execution_count": 218,
   "id": "714cecd0",
   "metadata": {},
   "outputs": [],
   "source": [
    "import pandas as pd\n",
    "import numpy as np\n",
    "import matplotlib.pyplot as plt"
   ]
  },
  {
   "cell_type": "code",
   "execution_count": 219,
   "id": "9b48ef5e",
   "metadata": {},
   "outputs": [
    {
     "name": "stderr",
     "output_type": "stream",
     "text": [
      "C:\\Users\\Lenovo\\.conda\\envs\\Python 2021\\lib\\site-packages\\sklearn\\utils\\deprecation.py:87: FutureWarning: Function load_boston is deprecated; `load_boston` is deprecated in 1.0 and will be removed in 1.2.\n",
      "\n",
      "    The Boston housing prices dataset has an ethical problem. You can refer to\n",
      "    the documentation of this function for further details.\n",
      "\n",
      "    The scikit-learn maintainers therefore strongly discourage the use of this\n",
      "    dataset unless the purpose of the code is to study and educate about\n",
      "    ethical issues in data science and machine learning.\n",
      "\n",
      "    In this special case, you can fetch the dataset from the original\n",
      "    source::\n",
      "\n",
      "        import pandas as pd\n",
      "        import numpy as np\n",
      "\n",
      "        data_url = \"http://lib.stat.cmu.edu/datasets/boston\"\n",
      "        raw_df = pd.read_csv(data_url, sep=\"\\s+\", skiprows=22, header=None)\n",
      "        data = np.hstack([raw_df.values[::2, :], raw_df.values[1::2, :2]])\n",
      "        target = raw_df.values[1::2, 2]\n",
      "\n",
      "    Alternative datasets include the California housing dataset (i.e.\n",
      "    :func:`~sklearn.datasets.fetch_california_housing`) and the Ames housing\n",
      "    dataset. You can load the datasets as follows::\n",
      "\n",
      "        from sklearn.datasets import fetch_california_housing\n",
      "        housing = fetch_california_housing()\n",
      "\n",
      "    for the California housing dataset and::\n",
      "\n",
      "        from sklearn.datasets import fetch_openml\n",
      "        housing = fetch_openml(name=\"house_prices\", as_frame=True)\n",
      "\n",
      "    for the Ames housing dataset.\n",
      "  warnings.warn(msg, category=FutureWarning)\n"
     ]
    },
    {
     "data": {
      "text/plain": [
       "dict_keys(['data', 'target', 'feature_names', 'DESCR', 'filename', 'data_module'])"
      ]
     },
     "execution_count": 219,
     "metadata": {},
     "output_type": "execute_result"
    }
   ],
   "source": [
    "from sklearn.datasets import load_boston\n",
    "boston = load_boston()\n",
    "boston.keys()"
   ]
  },
  {
   "cell_type": "code",
   "execution_count": 220,
   "id": "db0ff4ba",
   "metadata": {},
   "outputs": [
    {
     "name": "stdout",
     "output_type": "stream",
     "text": [
      ".. _boston_dataset:\n",
      "\n",
      "Boston house prices dataset\n",
      "---------------------------\n",
      "\n",
      "**Data Set Characteristics:**  \n",
      "\n",
      "    :Number of Instances: 506 \n",
      "\n",
      "    :Number of Attributes: 13 numeric/categorical predictive. Median Value (attribute 14) is usually the target.\n",
      "\n",
      "    :Attribute Information (in order):\n",
      "        - CRIM     per capita crime rate by town\n",
      "        - ZN       proportion of residential land zoned for lots over 25,000 sq.ft.\n",
      "        - INDUS    proportion of non-retail business acres per town\n",
      "        - CHAS     Charles River dummy variable (= 1 if tract bounds river; 0 otherwise)\n",
      "        - NOX      nitric oxides concentration (parts per 10 million)\n",
      "        - RM       average number of rooms per dwelling\n",
      "        - AGE      proportion of owner-occupied units built prior to 1940\n",
      "        - DIS      weighted distances to five Boston employment centres\n",
      "        - RAD      index of accessibility to radial highways\n",
      "        - TAX      full-value property-tax rate per $10,000\n",
      "        - PTRATIO  pupil-teacher ratio by town\n",
      "        - B        1000(Bk - 0.63)^2 where Bk is the proportion of black people by town\n",
      "        - LSTAT    % lower status of the population\n",
      "        - MEDV     Median value of owner-occupied homes in $1000's\n",
      "\n",
      "    :Missing Attribute Values: None\n",
      "\n",
      "    :Creator: Harrison, D. and Rubinfeld, D.L.\n",
      "\n",
      "This is a copy of UCI ML housing dataset.\n",
      "https://archive.ics.uci.edu/ml/machine-learning-databases/housing/\n",
      "\n",
      "\n",
      "This dataset was taken from the StatLib library which is maintained at Carnegie Mellon University.\n",
      "\n",
      "The Boston house-price data of Harrison, D. and Rubinfeld, D.L. 'Hedonic\n",
      "prices and the demand for clean air', J. Environ. Economics & Management,\n",
      "vol.5, 81-102, 1978.   Used in Belsley, Kuh & Welsch, 'Regression diagnostics\n",
      "...', Wiley, 1980.   N.B. Various transformations are used in the table on\n",
      "pages 244-261 of the latter.\n",
      "\n",
      "The Boston house-price data has been used in many machine learning papers that address regression\n",
      "problems.   \n",
      "     \n",
      ".. topic:: References\n",
      "\n",
      "   - Belsley, Kuh & Welsch, 'Regression diagnostics: Identifying Influential Data and Sources of Collinearity', Wiley, 1980. 244-261.\n",
      "   - Quinlan,R. (1993). Combining Instance-Based and Model-Based Learning. In Proceedings on the Tenth International Conference of Machine Learning, 236-243, University of Massachusetts, Amherst. Morgan Kaufmann.\n",
      "\n"
     ]
    }
   ],
   "source": [
    "print(boston['DESCR'])   # descripción del dataset\n",
    "# print(boston['data'])           # matriz con los datos de entrada (atributos)\n",
    "# boston['target']         # vector de valores a predecir\n",
    "# boston['feature_names']  # nombres de los atributos para cada columna de 'data'"
   ]
  },
  {
   "cell_type": "code",
   "execution_count": 221,
   "id": "ce4a3644",
   "metadata": {},
   "outputs": [
    {
     "name": "stdout",
     "output_type": "stream",
     "text": [
      "['CRIM' 'ZN' 'INDUS' 'CHAS' 'NOX' 'RM' 'AGE' 'DIS' 'RAD' 'TAX' 'PTRATIO'\n",
      " 'B' 'LSTAT']\n"
     ]
    }
   ],
   "source": [
    "print(boston['feature_names'])"
   ]
  },
  {
   "cell_type": "code",
   "execution_count": 222,
   "id": "de8e83cb",
   "metadata": {},
   "outputs": [
    {
     "data": {
      "text/plain": [
       "['CRIM',\n",
       " 'ZN',\n",
       " 'INDUS',\n",
       " 'CHAS',\n",
       " 'NOX',\n",
       " 'RM',\n",
       " 'AGE',\n",
       " 'DIS',\n",
       " 'RAD',\n",
       " 'TAX',\n",
       " 'PTRATIO',\n",
       " 'B',\n",
       " 'LSTAT']"
      ]
     },
     "execution_count": 222,
     "metadata": {},
     "output_type": "execute_result"
    }
   ],
   "source": [
    "features = boston['feature_names']\n",
    "features = features.tolist()\n",
    "features"
   ]
  },
  {
   "cell_type": "markdown",
   "id": "722cbd7e",
   "metadata": {},
   "source": [
    "## División en Entrenamiento y Evaluación"
   ]
  },
  {
   "cell_type": "markdown",
   "id": "7c24bb39",
   "metadata": {},
   "source": [
    "Dividimos aleatoriamente los datos en 80% para entrenamiento y 20% para evaluación:"
   ]
  },
  {
   "cell_type": "code",
   "execution_count": 223,
   "id": "e66dc428",
   "metadata": {},
   "outputs": [
    {
     "data": {
      "text/plain": [
       "((404, 13), (102, 13))"
      ]
     },
     "execution_count": 223,
     "metadata": {},
     "output_type": "execute_result"
    }
   ],
   "source": [
    "from sklearn.model_selection import train_test_split\n",
    "X, y = boston['data'], boston['target']\n",
    "X_train, X_test, y_train, y_test = train_test_split(X, y, train_size=0.8, random_state=0)\n",
    "X_train.shape, X_test.shape"
   ]
  },
  {
   "cell_type": "markdown",
   "id": "9e351ee0",
   "metadata": {},
   "source": [
    "Ejercicio 2: Visualización de los Datos"
   ]
  },
  {
   "cell_type": "markdown",
   "id": "0b78f14f",
   "metadata": {},
   "source": [
    "Ejercicio 3: Regresión Lineal\n",
    "Seleccione un solo atributo que considere puede ser el más apropiado.\n",
    "Instancie una regresión lineal de scikit-learn, y entrénela usando sólo el atributo seleccionado.\n",
    "Evalúe, calculando error cuadrático medio para los conjuntos de entrenamiento y evaluación.\n",
    "Grafique el modelo resultante, junto con los puntos de entrenamiento y evaluación.\n",
    "Interprete el resultado, haciendo algún comentario sobre las cualidades del modelo obtenido."
   ]
  },
  {
   "cell_type": "code",
   "execution_count": 224,
   "id": "42fcca97",
   "metadata": {},
   "outputs": [],
   "source": [
    "from sklearn.feature_selection import RFE\n",
    "from sklearn.svm import SVR"
   ]
  },
  {
   "cell_type": "code",
   "execution_count": 225,
   "id": "818d2962",
   "metadata": {},
   "outputs": [],
   "source": [
    "estimator = SVR(kernel=\"linear\")\n",
    "selector_feature = RFE(estimator, n_features_to_select=1, step=1)\n",
    "selector_feature = selector_feature.fit(X_train, y_train)"
   ]
  },
  {
   "cell_type": "code",
   "execution_count": 226,
   "id": "a177f160",
   "metadata": {},
   "outputs": [
    {
     "data": {
      "text/plain": [
       "array([ 7,  9,  8,  3,  2,  1, 10,  6, 12, 13,  4, 11,  5])"
      ]
     },
     "execution_count": 226,
     "metadata": {},
     "output_type": "execute_result"
    }
   ],
   "source": [
    "selector_feature.ranking_ #Ranking para elegir la mejor variable predictora para regresion lineal"
   ]
  },
  {
   "cell_type": "code",
   "execution_count": 227,
   "id": "53a8deb8",
   "metadata": {},
   "outputs": [
    {
     "data": {
      "text/plain": [
       "array([False, False, False, False, False,  True, False, False, False,\n",
       "       False, False, False, False])"
      ]
     },
     "execution_count": 227,
     "metadata": {},
     "output_type": "execute_result"
    }
   ],
   "source": [
    "selector_feature.support_"
   ]
  },
  {
   "cell_type": "code",
   "execution_count": 228,
   "id": "29eb4a8a",
   "metadata": {},
   "outputs": [
    {
     "name": "stdout",
     "output_type": "stream",
     "text": [
      "The feature CRIM is the NOT the best fit for a lineal regresion model and its ranking is: 7\n",
      "\n",
      "The feature ZN is the NOT the best fit for a lineal regresion model and its ranking is: 9\n",
      "\n",
      "The feature INDUS is the NOT the best fit for a lineal regresion model and its ranking is: 8\n",
      "\n",
      "The feature CHAS is the NOT the best fit for a lineal regresion model and its ranking is: 3\n",
      "\n",
      "The feature NOX is the NOT the best fit for a lineal regresion model and its ranking is: 2\n",
      "\n",
      "The feature RM is THE BEST fit for a lineal regresion model and its ranking is: 1\n",
      "\n",
      "The feature AGE is the NOT the best fit for a lineal regresion model and its ranking is: 10\n",
      "\n",
      "The feature DIS is the NOT the best fit for a lineal regresion model and its ranking is: 6\n",
      "\n",
      "The feature RAD is the NOT the best fit for a lineal regresion model and its ranking is: 12\n",
      "\n",
      "The feature TAX is the NOT the best fit for a lineal regresion model and its ranking is: 13\n",
      "\n",
      "The feature PTRATIO is the NOT the best fit for a lineal regresion model and its ranking is: 4\n",
      "\n",
      "The feature B is the NOT the best fit for a lineal regresion model and its ranking is: 11\n",
      "\n",
      "The feature LSTAT is the NOT the best fit for a lineal regresion model and its ranking is: 5\n",
      "\n"
     ]
    }
   ],
   "source": [
    "for i in range(len(features)):\n",
    "    if selector_feature.support_[i] == True:\n",
    "        print(\"The feature {} is THE BEST fit for a lineal regresion model and its ranking is: {}\\n\".format(features[i], selector_feature.ranking_[i]))\n",
    "    else:\n",
    "        print(\"The feature {} is the NOT the best fit for a lineal regresion model and its ranking is: {}\\n\".format(features[i], selector_feature.ranking_[i]))\n",
    "        "
   ]
  },
  {
   "cell_type": "markdown",
   "id": "5cd97a5a",
   "metadata": {},
   "source": [
    "Como pudimos observar tanto en los pltos como con el FeatureSelector de SkLearn, concluimos que la mejor variable para un modelo de regresion lineal es RM."
   ]
  },
  {
   "cell_type": "code",
   "execution_count": 229,
   "id": "061563c6",
   "metadata": {},
   "outputs": [
    {
     "data": {
      "text/plain": [
       "((404, 1), (102, 1))"
      ]
     },
     "execution_count": 229,
     "metadata": {},
     "output_type": "execute_result"
    }
   ],
   "source": [
    "# Se selecciona el atributo 'RM'\n",
    "feature = 'RM' \n",
    "selector = (boston['feature_names'] == feature)\n",
    "X_train_rm = X_train[:, selector]\n",
    "X_test_rm = X_test[:, selector]\n",
    "X_train_rm.shape, X_test_rm.shape"
   ]
  },
  {
   "cell_type": "code",
   "execution_count": 230,
   "id": "9fa1f2d4",
   "metadata": {},
   "outputs": [],
   "source": [
    "from sklearn.linear_model import LinearRegression"
   ]
  },
  {
   "cell_type": "code",
   "execution_count": 231,
   "id": "8c6ab8b6",
   "metadata": {},
   "outputs": [
    {
     "data": {
      "text/html": [
       "<style>#sk-container-id-11 {color: black;background-color: white;}#sk-container-id-11 pre{padding: 0;}#sk-container-id-11 div.sk-toggleable {background-color: white;}#sk-container-id-11 label.sk-toggleable__label {cursor: pointer;display: block;width: 100%;margin-bottom: 0;padding: 0.3em;box-sizing: border-box;text-align: center;}#sk-container-id-11 label.sk-toggleable__label-arrow:before {content: \"▸\";float: left;margin-right: 0.25em;color: #696969;}#sk-container-id-11 label.sk-toggleable__label-arrow:hover:before {color: black;}#sk-container-id-11 div.sk-estimator:hover label.sk-toggleable__label-arrow:before {color: black;}#sk-container-id-11 div.sk-toggleable__content {max-height: 0;max-width: 0;overflow: hidden;text-align: left;background-color: #f0f8ff;}#sk-container-id-11 div.sk-toggleable__content pre {margin: 0.2em;color: black;border-radius: 0.25em;background-color: #f0f8ff;}#sk-container-id-11 input.sk-toggleable__control:checked~div.sk-toggleable__content {max-height: 200px;max-width: 100%;overflow: auto;}#sk-container-id-11 input.sk-toggleable__control:checked~label.sk-toggleable__label-arrow:before {content: \"▾\";}#sk-container-id-11 div.sk-estimator input.sk-toggleable__control:checked~label.sk-toggleable__label {background-color: #d4ebff;}#sk-container-id-11 div.sk-label input.sk-toggleable__control:checked~label.sk-toggleable__label {background-color: #d4ebff;}#sk-container-id-11 input.sk-hidden--visually {border: 0;clip: rect(1px 1px 1px 1px);clip: rect(1px, 1px, 1px, 1px);height: 1px;margin: -1px;overflow: hidden;padding: 0;position: absolute;width: 1px;}#sk-container-id-11 div.sk-estimator {font-family: monospace;background-color: #f0f8ff;border: 1px dotted black;border-radius: 0.25em;box-sizing: border-box;margin-bottom: 0.5em;}#sk-container-id-11 div.sk-estimator:hover {background-color: #d4ebff;}#sk-container-id-11 div.sk-parallel-item::after {content: \"\";width: 100%;border-bottom: 1px solid gray;flex-grow: 1;}#sk-container-id-11 div.sk-label:hover label.sk-toggleable__label {background-color: #d4ebff;}#sk-container-id-11 div.sk-serial::before {content: \"\";position: absolute;border-left: 1px solid gray;box-sizing: border-box;top: 0;bottom: 0;left: 50%;z-index: 0;}#sk-container-id-11 div.sk-serial {display: flex;flex-direction: column;align-items: center;background-color: white;padding-right: 0.2em;padding-left: 0.2em;position: relative;}#sk-container-id-11 div.sk-item {position: relative;z-index: 1;}#sk-container-id-11 div.sk-parallel {display: flex;align-items: stretch;justify-content: center;background-color: white;position: relative;}#sk-container-id-11 div.sk-item::before, #sk-container-id-11 div.sk-parallel-item::before {content: \"\";position: absolute;border-left: 1px solid gray;box-sizing: border-box;top: 0;bottom: 0;left: 50%;z-index: -1;}#sk-container-id-11 div.sk-parallel-item {display: flex;flex-direction: column;z-index: 1;position: relative;background-color: white;}#sk-container-id-11 div.sk-parallel-item:first-child::after {align-self: flex-end;width: 50%;}#sk-container-id-11 div.sk-parallel-item:last-child::after {align-self: flex-start;width: 50%;}#sk-container-id-11 div.sk-parallel-item:only-child::after {width: 0;}#sk-container-id-11 div.sk-dashed-wrapped {border: 1px dashed gray;margin: 0 0.4em 0.5em 0.4em;box-sizing: border-box;padding-bottom: 0.4em;background-color: white;}#sk-container-id-11 div.sk-label label {font-family: monospace;font-weight: bold;display: inline-block;line-height: 1.2em;}#sk-container-id-11 div.sk-label-container {text-align: center;}#sk-container-id-11 div.sk-container {/* jupyter's `normalize.less` sets `[hidden] { display: none; }` but bootstrap.min.css set `[hidden] { display: none !important; }` so we also need the `!important` here to be able to override the default hidden behavior on the sphinx rendered scikit-learn.org. See: https://github.com/scikit-learn/scikit-learn/issues/21755 */display: inline-block !important;position: relative;}#sk-container-id-11 div.sk-text-repr-fallback {display: none;}</style><div id=\"sk-container-id-11\" class=\"sk-top-container\"><div class=\"sk-text-repr-fallback\"><pre>LinearRegression()</pre><b>In a Jupyter environment, please rerun this cell to show the HTML representation or trust the notebook. <br />On GitHub, the HTML representation is unable to render, please try loading this page with nbviewer.org.</b></div><div class=\"sk-container\" hidden><div class=\"sk-item\"><div class=\"sk-estimator sk-toggleable\"><input class=\"sk-toggleable__control sk-hidden--visually\" id=\"sk-estimator-id-21\" type=\"checkbox\" checked><label for=\"sk-estimator-id-21\" class=\"sk-toggleable__label sk-toggleable__label-arrow\">LinearRegression</label><div class=\"sk-toggleable__content\"><pre>LinearRegression()</pre></div></div></div></div></div>"
      ],
      "text/plain": [
       "LinearRegression()"
      ]
     },
     "execution_count": 231,
     "metadata": {},
     "output_type": "execute_result"
    }
   ],
   "source": [
    "lm = LinearRegression()\n",
    "lm.fit(X_train_rm, y_train)"
   ]
  },
  {
   "cell_type": "code",
   "execution_count": 232,
   "id": "01d3c6ba",
   "metadata": {},
   "outputs": [],
   "source": [
    "y_train_predict = lm.predict(X_train_rm)\n",
    "y_test_predict = lm.predict(X_test_rm)"
   ]
  },
  {
   "cell_type": "code",
   "execution_count": 233,
   "id": "485a901d",
   "metadata": {},
   "outputs": [],
   "source": [
    "SSD = np.sum((y_train - y_train_predict)**2)"
   ]
  },
  {
   "cell_type": "code",
   "execution_count": 234,
   "id": "9109dc0d",
   "metadata": {},
   "outputs": [
    {
     "data": {
      "text/plain": [
       "6.55999360902073"
      ]
     },
     "execution_count": 234,
     "metadata": {},
     "output_type": "execute_result"
    }
   ],
   "source": [
    "square_error = np.sqrt(SSD/(len(X_train) - 2))\n",
    "square_error"
   ]
  },
  {
   "cell_type": "code",
   "execution_count": 235,
   "id": "886f00aa",
   "metadata": {},
   "outputs": [
    {
     "data": {
      "text/plain": [
       "array([9.37638431])"
      ]
     },
     "execution_count": 235,
     "metadata": {},
     "output_type": "execute_result"
    }
   ],
   "source": [
    "lm.coef_"
   ]
  },
  {
   "cell_type": "code",
   "execution_count": 236,
   "id": "572284fd",
   "metadata": {},
   "outputs": [
    {
     "data": {
      "text/plain": [
       "-36.47618962764734"
      ]
     },
     "execution_count": 236,
     "metadata": {},
     "output_type": "execute_result"
    }
   ],
   "source": [
    "lm.intercept_"
   ]
  },
  {
   "cell_type": "code",
   "execution_count": 269,
   "id": "4476874e",
   "metadata": {},
   "outputs": [
    {
     "data": {
      "text/plain": [
       "0.4970800097843844"
      ]
     },
     "execution_count": 269,
     "metadata": {},
     "output_type": "execute_result"
    }
   ],
   "source": [
    "#Estadistico r2 para ver la eficiencia del modelo:\n",
    "lm.score(X_train_rm, y_train)"
   ]
  },
  {
   "cell_type": "code",
   "execution_count": 237,
   "id": "d963e976",
   "metadata": {},
   "outputs": [
    {
     "data": {
      "text/plain": [
       "(6.848894190115315, 6.543735855131036)"
      ]
     },
     "execution_count": 237,
     "metadata": {},
     "output_type": "execute_result"
    }
   ],
   "source": [
    "from sklearn.metrics import mean_squared_error\n",
    "test_error = mean_squared_error(y_pred_test, y_test, squared = False)\n",
    "train_error = mean_squared_error(y_pred_train, y_train, squared = False)\n",
    "test_error, train_error"
   ]
  },
  {
   "cell_type": "markdown",
   "id": "8880d7df",
   "metadata": {},
   "source": [
    "El modelo quedaria conformado como: MEDIAN VALUES = -36.47618962764734 + 9.37638431 * RM"
   ]
  },
  {
   "cell_type": "code",
   "execution_count": 238,
   "id": "4dc2def4",
   "metadata": {
    "scrolled": true
   },
   "outputs": [
    {
     "data": {
      "image/png": "[encoded data removed]",
      "text/plain": [
       "<Figure size 720x720 with 1 Axes>"
      ]
     },
     "metadata": {
      "needs_background": "light"
     },
     "output_type": "display_data"
    }
   ],
   "source": [
    "%matplotlib inline\n",
    "plt.figure(figsize = (10,10))\n",
    "plt.scatter(X_train_rm, y_train, facecolor=\"dodgerblue\", edgecolor=\"k\", label=\"train\")\n",
    "plt.scatter(X_test_rm, y_test, facecolor=\"red\", edgecolor=\"k\", label=\"test\")\n",
    "plt.plot(X_train_rm, y_train_predict, color=\"purple\", label=\"model\")\n",
    "plt.title(feature)\n",
    "plt.legend()\n",
    "plt.show()"
   ]
  },
  {
   "cell_type": "markdown",
   "id": "d1e74dc3",
   "metadata": {},
   "source": [
    "Ejercicio 4: Regresión Polinomial\n",
    "En este ejercicio deben entrenar regresiones polinomiales de diferente complejidad, siempre usando scikit-learn.\n",
    "\n",
    "Deben usar el mismo atributo seleccionado para el ejercicio anterior.\n",
    "\n",
    "Para varios grados de polinomio, haga lo siguiente:\n",
    "\n",
    "Instancie y entrene una regresión polinomial.\n",
    "Prediga y calcule error en entrenamiento y evaluación. Imprima los valores.\n",
    "Guarde los errores en una lista.\n",
    "Grafique las curvas de error en términos del grado del polinomio.\n",
    "Interprete la curva, identificando el punto en que comienza a haber sobreajuste, si lo hay.\n",
    "Seleccione el modelo que mejor funcione, y grafique el modelo conjuntamente con los puntos.\n",
    "Interprete el resultado, haciendo algún comentario sobre las cualidades del modelo obtenido.\n",
    "Observación: Con algunos atributos se pueden obtener errores en test menores a 40 e incluso a 35."
   ]
  },
  {
   "cell_type": "code",
   "execution_count": 239,
   "id": "5afd1d6c",
   "metadata": {},
   "outputs": [],
   "source": [
    "from sklearn.linear_model import LinearRegression\n",
    "from sklearn.preprocessing import PolynomialFeatures\n",
    "from sklearn.pipeline import make_pipeline"
   ]
  },
  {
   "cell_type": "code",
   "execution_count": 240,
   "id": "e9e75a09",
   "metadata": {},
   "outputs": [],
   "source": [
    "pf = PolynomialFeatures(degree = 2)\n",
    "lr = LinearRegression(fit_intercept= False)\n",
    "model = make_pipeline(pf, lr)"
   ]
  },
  {
   "cell_type": "code",
   "execution_count": 241,
   "id": "dbb97b23",
   "metadata": {},
   "outputs": [
    {
     "data": {
      "text/html": [
       "<style>#sk-container-id-12 {color: black;background-color: white;}#sk-container-id-12 pre{padding: 0;}#sk-container-id-12 div.sk-toggleable {background-color: white;}#sk-container-id-12 label.sk-toggleable__label {cursor: pointer;display: block;width: 100%;margin-bottom: 0;padding: 0.3em;box-sizing: border-box;text-align: center;}#sk-container-id-12 label.sk-toggleable__label-arrow:before {content: \"▸\";float: left;margin-right: 0.25em;color: #696969;}#sk-container-id-12 label.sk-toggleable__label-arrow:hover:before {color: black;}#sk-container-id-12 div.sk-estimator:hover label.sk-toggleable__label-arrow:before {color: black;}#sk-container-id-12 div.sk-toggleable__content {max-height: 0;max-width: 0;overflow: hidden;text-align: left;background-color: #f0f8ff;}#sk-container-id-12 div.sk-toggleable__content pre {margin: 0.2em;color: black;border-radius: 0.25em;background-color: #f0f8ff;}#sk-container-id-12 input.sk-toggleable__control:checked~div.sk-toggleable__content {max-height: 200px;max-width: 100%;overflow: auto;}#sk-container-id-12 input.sk-toggleable__control:checked~label.sk-toggleable__label-arrow:before {content: \"▾\";}#sk-container-id-12 div.sk-estimator input.sk-toggleable__control:checked~label.sk-toggleable__label {background-color: #d4ebff;}#sk-container-id-12 div.sk-label input.sk-toggleable__control:checked~label.sk-toggleable__label {background-color: #d4ebff;}#sk-container-id-12 input.sk-hidden--visually {border: 0;clip: rect(1px 1px 1px 1px);clip: rect(1px, 1px, 1px, 1px);height: 1px;margin: -1px;overflow: hidden;padding: 0;position: absolute;width: 1px;}#sk-container-id-12 div.sk-estimator {font-family: monospace;background-color: #f0f8ff;border: 1px dotted black;border-radius: 0.25em;box-sizing: border-box;margin-bottom: 0.5em;}#sk-container-id-12 div.sk-estimator:hover {background-color: #d4ebff;}#sk-container-id-12 div.sk-parallel-item::after {content: \"\";width: 100%;border-bottom: 1px solid gray;flex-grow: 1;}#sk-container-id-12 div.sk-label:hover label.sk-toggleable__label {background-color: #d4ebff;}#sk-container-id-12 div.sk-serial::before {content: \"\";position: absolute;border-left: 1px solid gray;box-sizing: border-box;top: 0;bottom: 0;left: 50%;z-index: 0;}#sk-container-id-12 div.sk-serial {display: flex;flex-direction: column;align-items: center;background-color: white;padding-right: 0.2em;padding-left: 0.2em;position: relative;}#sk-container-id-12 div.sk-item {position: relative;z-index: 1;}#sk-container-id-12 div.sk-parallel {display: flex;align-items: stretch;justify-content: center;background-color: white;position: relative;}#sk-container-id-12 div.sk-item::before, #sk-container-id-12 div.sk-parallel-item::before {content: \"\";position: absolute;border-left: 1px solid gray;box-sizing: border-box;top: 0;bottom: 0;left: 50%;z-index: -1;}#sk-container-id-12 div.sk-parallel-item {display: flex;flex-direction: column;z-index: 1;position: relative;background-color: white;}#sk-container-id-12 div.sk-parallel-item:first-child::after {align-self: flex-end;width: 50%;}#sk-container-id-12 div.sk-parallel-item:last-child::after {align-self: flex-start;width: 50%;}#sk-container-id-12 div.sk-parallel-item:only-child::after {width: 0;}#sk-container-id-12 div.sk-dashed-wrapped {border: 1px dashed gray;margin: 0 0.4em 0.5em 0.4em;box-sizing: border-box;padding-bottom: 0.4em;background-color: white;}#sk-container-id-12 div.sk-label label {font-family: monospace;font-weight: bold;display: inline-block;line-height: 1.2em;}#sk-container-id-12 div.sk-label-container {text-align: center;}#sk-container-id-12 div.sk-container {/* jupyter's `normalize.less` sets `[hidden] { display: none; }` but bootstrap.min.css set `[hidden] { display: none !important; }` so we also need the `!important` here to be able to override the default hidden behavior on the sphinx rendered scikit-learn.org. See: https://github.com/scikit-learn/scikit-learn/issues/21755 */display: inline-block !important;position: relative;}#sk-container-id-12 div.sk-text-repr-fallback {display: none;}</style><div id=\"sk-container-id-12\" class=\"sk-top-container\"><div class=\"sk-text-repr-fallback\"><pre>Pipeline(steps=[(&#x27;polynomialfeatures&#x27;, PolynomialFeatures()),\n",
       "                (&#x27;linearregression&#x27;, LinearRegression(fit_intercept=False))])</pre><b>In a Jupyter environment, please rerun this cell to show the HTML representation or trust the notebook. <br />On GitHub, the HTML representation is unable to render, please try loading this page with nbviewer.org.</b></div><div class=\"sk-container\" hidden><div class=\"sk-item sk-dashed-wrapped\"><div class=\"sk-label-container\"><div class=\"sk-label sk-toggleable\"><input class=\"sk-toggleable__control sk-hidden--visually\" id=\"sk-estimator-id-22\" type=\"checkbox\" ><label for=\"sk-estimator-id-22\" class=\"sk-toggleable__label sk-toggleable__label-arrow\">Pipeline</label><div class=\"sk-toggleable__content\"><pre>Pipeline(steps=[(&#x27;polynomialfeatures&#x27;, PolynomialFeatures()),\n",
       "                (&#x27;linearregression&#x27;, LinearRegression(fit_intercept=False))])</pre></div></div></div><div class=\"sk-serial\"><div class=\"sk-item\"><div class=\"sk-estimator sk-toggleable\"><input class=\"sk-toggleable__control sk-hidden--visually\" id=\"sk-estimator-id-23\" type=\"checkbox\" ><label for=\"sk-estimator-id-23\" class=\"sk-toggleable__label sk-toggleable__label-arrow\">PolynomialFeatures</label><div class=\"sk-toggleable__content\"><pre>PolynomialFeatures()</pre></div></div></div><div class=\"sk-item\"><div class=\"sk-estimator sk-toggleable\"><input class=\"sk-toggleable__control sk-hidden--visually\" id=\"sk-estimator-id-24\" type=\"checkbox\" ><label for=\"sk-estimator-id-24\" class=\"sk-toggleable__label sk-toggleable__label-arrow\">LinearRegression</label><div class=\"sk-toggleable__content\"><pre>LinearRegression(fit_intercept=False)</pre></div></div></div></div></div></div></div>"
      ],
      "text/plain": [
       "Pipeline(steps=[('polynomialfeatures', PolynomialFeatures()),\n",
       "                ('linearregression', LinearRegression(fit_intercept=False))])"
      ]
     },
     "execution_count": 241,
     "metadata": {},
     "output_type": "execute_result"
    }
   ],
   "source": [
    "model.fit(X_train_rm, y_train)"
   ]
  },
  {
   "cell_type": "code",
   "execution_count": 242,
   "id": "c4df16f6",
   "metadata": {},
   "outputs": [
    {
     "data": {
      "text/plain": [
       "array([ 68.20229886, -23.56509374,   2.56037958])"
      ]
     },
     "execution_count": 242,
     "metadata": {},
     "output_type": "execute_result"
    }
   ],
   "source": [
    "lr.coef_ #inspeccionamos los parametros."
   ]
  },
  {
   "cell_type": "code",
   "execution_count": 243,
   "id": "59b827b0",
   "metadata": {
    "scrolled": true
   },
   "outputs": [
    {
     "data": {
      "text/plain": [
       "0.0"
      ]
     },
     "execution_count": 243,
     "metadata": {},
     "output_type": "execute_result"
    }
   ],
   "source": [
    "lr.intercept_"
   ]
  },
  {
   "cell_type": "code",
   "execution_count": 244,
   "id": "6db93a86",
   "metadata": {},
   "outputs": [
    {
     "data": {
      "text/plain": [
       "6.143739005709898"
      ]
     },
     "execution_count": 244,
     "metadata": {},
     "output_type": "execute_result"
    }
   ],
   "source": [
    "mean_squared_error(y_train, model.predict(X_train_rm), squared = False) #notamos que el error disminuye levemente con\n",
    "#este modelo de regresion polinomial grado 2"
   ]
  },
  {
   "cell_type": "code",
   "execution_count": 245,
   "id": "1b158fa6",
   "metadata": {},
   "outputs": [
    {
     "data": {
      "text/plain": [
       "((404, 13), (404,))"
      ]
     },
     "execution_count": 245,
     "metadata": {},
     "output_type": "execute_result"
    }
   ],
   "source": [
    "X_train.shape, y_train.shape"
   ]
  },
  {
   "cell_type": "code",
   "execution_count": 246,
   "id": "7567f445",
   "metadata": {},
   "outputs": [],
   "source": [
    "# plt.scatter(X_train_rm, y_train, facecolor=\"dodgerblue\", edgecolor=\"k\", label=\"train\")\n",
    "# plt.scatter(X_test_rm, y_test, facecolor=\"white\", edgecolor=\"k\", label=\"test\")\n",
    "# plt.plot(X[:,selector], model.predict(X[:,selector]), color=\"red\", label=\"model\")\n",
    "# plt.legend()\n",
    "# plt.show()\n",
    "# Horrendo el grafico:"
   ]
  },
  {
   "cell_type": "code",
   "execution_count": 247,
   "id": "30a0085b",
   "metadata": {},
   "outputs": [],
   "source": [
    "#buscando los errores del modelo de entrenamiento y validacion a medida que aumentamos los grados del polinomio\n",
    "degrees = [1,2,3,4,5,6,7,8,9]\n",
    "test_errors = []\n",
    "train_errors = []\n",
    "\n",
    "for degree in degrees:\n",
    "    pf = PolynomialFeatures(degree)\n",
    "    lr = LinearRegression(fit_intercept= False)\n",
    "    model = make_pipeline(pf, lr)\n",
    "    model.fit(X_train_rm, y_train)\n",
    "    \n",
    "    #estimadores:\n",
    "    y_train_pred = model.predict(X_train_rm)\n",
    "    y_test_pred = model.predict(X_test_rm)\n",
    "    \n",
    "    #errores:\n",
    "    train_error = mean_squared_error(y_train, y_train_pred)\n",
    "    test_error = mean_squared_error(y_test, y_test_pred)\n",
    "    train_errors.append(train_error)\n",
    "    test_errors.append(test_error)"
   ]
  },
  {
   "cell_type": "code",
   "execution_count": 248,
   "id": "9cba7a2b",
   "metadata": {},
   "outputs": [
    {
     "data": {
      "text/plain": [
       "([42.820478941727515,\n",
       "  37.74552897028125,\n",
       "  36.39565875767105,\n",
       "  34.80844625691349,\n",
       "  33.131121571954914,\n",
       "  33.130116415579074,\n",
       "  33.060358764657465,\n",
       "  33.06035722561689,\n",
       "  32.854885493706114],\n",
       " [46.907351627395315,\n",
       "  39.79473116372663,\n",
       "  39.825762088216536,\n",
       "  41.55392567589451,\n",
       "  41.03828856935067,\n",
       "  41.00917696010345,\n",
       "  42.39410829650169,\n",
       "  42.399257253879284,\n",
       "  46.05126028248193])"
      ]
     },
     "execution_count": 248,
     "metadata": {},
     "output_type": "execute_result"
    }
   ],
   "source": [
    "train_errors, test_errors"
   ]
  },
  {
   "cell_type": "code",
   "execution_count": 249,
   "id": "4fd473c2",
   "metadata": {},
   "outputs": [
    {
     "data": {
      "image/png": "[encoded data removed]",
      "text/plain": [
       "<Figure size 432x432 with 1 Axes>"
      ]
     },
     "metadata": {
      "needs_background": "light"
     },
     "output_type": "display_data"
    }
   ],
   "source": [
    "%matplotlib inline\n",
    "plt.figure(figsize = (6,6))\n",
    "\n",
    "plt.plot(degrees, train_errors, color=\"blue\", label=\"train\")\n",
    "plt.plot(degrees, test_errors, color=\"red\", label=\"test\")\n",
    "plt.legend()\n",
    "plt.xlabel(\"degree\")\n",
    "plt.ylabel(\"error\")\n",
    "plt.show()\n",
    "\n",
    "#polinomio de grado 3 parece ser el mejor. "
   ]
  },
  {
   "cell_type": "markdown",
   "id": "6b53f79b",
   "metadata": {},
   "source": [
    "Ejercicio 5: Regresión con más de un Atributo\n",
    "En este ejercicio deben entrenar regresiones que toman más de un atributo de entrada.\n",
    "\n",
    "Seleccione dos o tres atributos entre los más relevantes encontrados en el ejercicio 2.\n",
    "Repita el ejercicio anterior, pero usando los atributos seleccionados. No hace falta graficar el modelo final.\n",
    "Interprete el resultado y compare con los ejercicios anteriores. ¿Se obtuvieron mejores modelos? ¿Porqué?"
   ]
  },
  {
   "cell_type": "markdown",
   "id": "1d454a6a",
   "metadata": {},
   "source": [
    "Se repetira el selector de features del ejercicio 2 para 3 atributos:"
   ]
  },
  {
   "cell_type": "code",
   "execution_count": 251,
   "id": "ba737528",
   "metadata": {},
   "outputs": [],
   "source": [
    "estimator = SVR(kernel=\"linear\")\n",
    "selector_feature = RFE(estimator, n_features_to_select=3, step=1)\n",
    "selector_feature = selector_feature.fit(X_train, y_train)"
   ]
  },
  {
   "cell_type": "code",
   "execution_count": 252,
   "id": "8ab72848",
   "metadata": {},
   "outputs": [
    {
     "data": {
      "text/plain": [
       "array([ 5,  7,  6,  1,  1,  1,  8,  4, 10, 11,  2,  9,  3])"
      ]
     },
     "execution_count": 252,
     "metadata": {},
     "output_type": "execute_result"
    }
   ],
   "source": [
    "selector_feature.ranking_"
   ]
  },
  {
   "cell_type": "code",
   "execution_count": 254,
   "id": "c8893675",
   "metadata": {},
   "outputs": [
    {
     "data": {
      "text/plain": [
       "array([False, False, False, False, False,  True, False, False, False,\n",
       "       False, False, False, False])"
      ]
     },
     "execution_count": 254,
     "metadata": {},
     "output_type": "execute_result"
    }
   ],
   "source": [
    "selector_features.support_ #se observa que ningun feature se puede usar como relacion \"linear\"\n",
    "#en teoria el error del modelo deberia ser mayor que con una sola variable"
   ]
  },
  {
   "cell_type": "code",
   "execution_count": 255,
   "id": "6101441b",
   "metadata": {},
   "outputs": [
    {
     "data": {
      "text/plain": [
       "[('CRIM', 5),\n",
       " ('ZN', 7),\n",
       " ('INDUS', 6),\n",
       " ('CHAS', 1),\n",
       " ('NOX', 1),\n",
       " ('RM', 1),\n",
       " ('AGE', 8),\n",
       " ('DIS', 4),\n",
       " ('RAD', 10),\n",
       " ('TAX', 11),\n",
       " ('PTRATIO', 2),\n",
       " ('B', 9),\n",
       " ('LSTAT', 3)]"
      ]
     },
     "execution_count": 255,
     "metadata": {},
     "output_type": "execute_result"
    }
   ],
   "source": [
    "list(zip(features, selector_feature.ranking_))"
   ]
  },
  {
   "cell_type": "code",
   "execution_count": 272,
   "id": "b7ba6d33",
   "metadata": {},
   "outputs": [
    {
     "data": {
      "text/plain": [
       "((404, 3), (102, 3))"
      ]
     },
     "execution_count": 272,
     "metadata": {},
     "output_type": "execute_result"
    }
   ],
   "source": [
    "# Se eligen 3 variables: RM, CHAS y NOX\n",
    "selector2 = (boston['feature_names'] == 'RM') | (boston['feature_names'] == 'CHAS') | (boston['feature_names'] == 'NOX')\n",
    "X_train_fs = X_train[:, selector2]\n",
    "X_test_fs = X_test[:, selector2]\n",
    "X_train_fs.shape, X_test_fs.shape"
   ]
  },
  {
   "cell_type": "code",
   "execution_count": 273,
   "id": "fe9e95ce",
   "metadata": {},
   "outputs": [
    {
     "data": {
      "text/html": [
       "<style>#sk-container-id-15 {color: black;background-color: white;}#sk-container-id-15 pre{padding: 0;}#sk-container-id-15 div.sk-toggleable {background-color: white;}#sk-container-id-15 label.sk-toggleable__label {cursor: pointer;display: block;width: 100%;margin-bottom: 0;padding: 0.3em;box-sizing: border-box;text-align: center;}#sk-container-id-15 label.sk-toggleable__label-arrow:before {content: \"▸\";float: left;margin-right: 0.25em;color: #696969;}#sk-container-id-15 label.sk-toggleable__label-arrow:hover:before {color: black;}#sk-container-id-15 div.sk-estimator:hover label.sk-toggleable__label-arrow:before {color: black;}#sk-container-id-15 div.sk-toggleable__content {max-height: 0;max-width: 0;overflow: hidden;text-align: left;background-color: #f0f8ff;}#sk-container-id-15 div.sk-toggleable__content pre {margin: 0.2em;color: black;border-radius: 0.25em;background-color: #f0f8ff;}#sk-container-id-15 input.sk-toggleable__control:checked~div.sk-toggleable__content {max-height: 200px;max-width: 100%;overflow: auto;}#sk-container-id-15 input.sk-toggleable__control:checked~label.sk-toggleable__label-arrow:before {content: \"▾\";}#sk-container-id-15 div.sk-estimator input.sk-toggleable__control:checked~label.sk-toggleable__label {background-color: #d4ebff;}#sk-container-id-15 div.sk-label input.sk-toggleable__control:checked~label.sk-toggleable__label {background-color: #d4ebff;}#sk-container-id-15 input.sk-hidden--visually {border: 0;clip: rect(1px 1px 1px 1px);clip: rect(1px, 1px, 1px, 1px);height: 1px;margin: -1px;overflow: hidden;padding: 0;position: absolute;width: 1px;}#sk-container-id-15 div.sk-estimator {font-family: monospace;background-color: #f0f8ff;border: 1px dotted black;border-radius: 0.25em;box-sizing: border-box;margin-bottom: 0.5em;}#sk-container-id-15 div.sk-estimator:hover {background-color: #d4ebff;}#sk-container-id-15 div.sk-parallel-item::after {content: \"\";width: 100%;border-bottom: 1px solid gray;flex-grow: 1;}#sk-container-id-15 div.sk-label:hover label.sk-toggleable__label {background-color: #d4ebff;}#sk-container-id-15 div.sk-serial::before {content: \"\";position: absolute;border-left: 1px solid gray;box-sizing: border-box;top: 0;bottom: 0;left: 50%;z-index: 0;}#sk-container-id-15 div.sk-serial {display: flex;flex-direction: column;align-items: center;background-color: white;padding-right: 0.2em;padding-left: 0.2em;position: relative;}#sk-container-id-15 div.sk-item {position: relative;z-index: 1;}#sk-container-id-15 div.sk-parallel {display: flex;align-items: stretch;justify-content: center;background-color: white;position: relative;}#sk-container-id-15 div.sk-item::before, #sk-container-id-15 div.sk-parallel-item::before {content: \"\";position: absolute;border-left: 1px solid gray;box-sizing: border-box;top: 0;bottom: 0;left: 50%;z-index: -1;}#sk-container-id-15 div.sk-parallel-item {display: flex;flex-direction: column;z-index: 1;position: relative;background-color: white;}#sk-container-id-15 div.sk-parallel-item:first-child::after {align-self: flex-end;width: 50%;}#sk-container-id-15 div.sk-parallel-item:last-child::after {align-self: flex-start;width: 50%;}#sk-container-id-15 div.sk-parallel-item:only-child::after {width: 0;}#sk-container-id-15 div.sk-dashed-wrapped {border: 1px dashed gray;margin: 0 0.4em 0.5em 0.4em;box-sizing: border-box;padding-bottom: 0.4em;background-color: white;}#sk-container-id-15 div.sk-label label {font-family: monospace;font-weight: bold;display: inline-block;line-height: 1.2em;}#sk-container-id-15 div.sk-label-container {text-align: center;}#sk-container-id-15 div.sk-container {/* jupyter's `normalize.less` sets `[hidden] { display: none; }` but bootstrap.min.css set `[hidden] { display: none !important; }` so we also need the `!important` here to be able to override the default hidden behavior on the sphinx rendered scikit-learn.org. See: https://github.com/scikit-learn/scikit-learn/issues/21755 */display: inline-block !important;position: relative;}#sk-container-id-15 div.sk-text-repr-fallback {display: none;}</style><div id=\"sk-container-id-15\" class=\"sk-top-container\"><div class=\"sk-text-repr-fallback\"><pre>LinearRegression()</pre><b>In a Jupyter environment, please rerun this cell to show the HTML representation or trust the notebook. <br />On GitHub, the HTML representation is unable to render, please try loading this page with nbviewer.org.</b></div><div class=\"sk-container\" hidden><div class=\"sk-item\"><div class=\"sk-estimator sk-toggleable\"><input class=\"sk-toggleable__control sk-hidden--visually\" id=\"sk-estimator-id-27\" type=\"checkbox\" checked><label for=\"sk-estimator-id-27\" class=\"sk-toggleable__label sk-toggleable__label-arrow\">LinearRegression</label><div class=\"sk-toggleable__content\"><pre>LinearRegression()</pre></div></div></div></div></div>"
      ],
      "text/plain": [
       "LinearRegression()"
      ]
     },
     "execution_count": 273,
     "metadata": {},
     "output_type": "execute_result"
    }
   ],
   "source": [
    "lm2 = LinearRegression()\n",
    "lm2.fit(X_train_fs, y_train)"
   ]
  },
  {
   "cell_type": "code",
   "execution_count": 274,
   "id": "d3107fe0",
   "metadata": {},
   "outputs": [
    {
     "data": {
      "text/plain": [
       "array([  4.41220226, -22.35623144,   8.07517922])"
      ]
     },
     "execution_count": 274,
     "metadata": {},
     "output_type": "execute_result"
    }
   ],
   "source": [
    "lm2.coef_ #3 Coeficientes."
   ]
  },
  {
   "cell_type": "code",
   "execution_count": 275,
   "id": "99597050",
   "metadata": {},
   "outputs": [
    {
     "data": {
      "text/plain": [
       "0.5777796687926771"
      ]
     },
     "execution_count": 275,
     "metadata": {},
     "output_type": "execute_result"
    }
   ],
   "source": [
    "lm2.score(X_train_fs, y_train) #R2 aumenta respecto al modelo lineal con solo una variable. "
   ]
  },
  {
   "cell_type": "code",
   "execution_count": 280,
   "id": "d17b64e4",
   "metadata": {},
   "outputs": [
    {
     "name": "stdout",
     "output_type": "stream",
     "text": [
      "6.658519942458273 5.995782663922449\n"
     ]
    }
   ],
   "source": [
    "train_error_lm2 = mean_squared_error(y_train, lm2.predict(X_train_fs), squared = False)\n",
    "test_error_lm2 = mean_squared_error(y_test, lm2.predict(X_test_fs), squared = False)\n",
    "print(test_error_lm2, train_error_lm2)"
   ]
  },
  {
   "cell_type": "markdown",
   "id": "58cecffa",
   "metadata": {},
   "source": [
    "Errores del modelo lineal con 1 variable: \n",
    "\n",
    "(Test: 6.848894190115315,Train: 6.543735855131036)\n",
    "\n",
    "Se puede concluir que la inclusion de variables al modelo, aumenta la informacion y por ende hace disminuir el error. Tal vez, por la NO relacion Lineal entra la variable a predecir y la variable predictora, el modelo no disminuye su error de manera significativa. "
   ]
  }
 ],
 "metadata": {
  "kernelspec": {
   "display_name": "Python 3",
   "language": "python",
   "name": "python3"
  },
  "language_info": {
   "codemirror_mode": {
    "name": "ipython",
    "version": 3
   },
   "file_extension": ".py",
   "mimetype": "text/x-python",
   "name": "python",
   "nbconvert_exporter": "python",
   "pygments_lexer": "ipython3",
   "version": "3.8.8"
  }
 },
 "nbformat": 4,
 "nbformat_minor": 5
}
